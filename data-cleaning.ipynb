{
 "cells": [
  {
   "cell_type": "markdown",
   "metadata": {},
   "source": [
    "# Notebook to Read and Process eBird Data\n",
    "- Download dataset here: https://ebird.org/science/use-ebird-data/download-ebird-data-products \n",
    "- Please read readme.txt available at: https://github.com/mila-iqia/ecosystem-embedding"
   ]
  },
  {
   "cell_type": "markdown",
   "metadata": {},
   "source": [
    "---------------------------------------------------------------------------------------------------------"
   ]
  },
  {
   "cell_type": "markdown",
   "metadata": {},
   "source": [
    "### Import libraries"
   ]
  },
  {
   "cell_type": "code",
   "execution_count": 1,
   "metadata": {},
   "outputs": [],
   "source": [
    "import os\n",
    "import sys\n",
    "import datetime\n",
    "import time\n",
    "import pandas as pd\n",
    "# from datetime import time\n",
    "from collections import OrderedDict\n",
    "from tqdm._tqdm_notebook import tqdm_notebook\n",
    "from tqdm import tqdm"
   ]
  },
  {
   "cell_type": "markdown",
   "metadata": {},
   "source": [
    "### All data at checklists level\n",
    "- `complete-checklists.txt` is the file which has the data of complete checklists.\n",
    "- I got this `complete-checklists.txt` file from the R-code provided by Matt (maintainer of ebird)"
   ]
  },
  {
   "cell_type": "code",
   "execution_count": 2,
   "metadata": {},
   "outputs": [
    {
     "data": {
      "text/html": [
       "<div>\n",
       "<style scoped>\n",
       "    .dataframe tbody tr th:only-of-type {\n",
       "        vertical-align: middle;\n",
       "    }\n",
       "\n",
       "    .dataframe tbody tr th {\n",
       "        vertical-align: top;\n",
       "    }\n",
       "\n",
       "    .dataframe thead th {\n",
       "        text-align: right;\n",
       "    }\n",
       "</style>\n",
       "<table border=\"1\" class=\"dataframe\">\n",
       "  <thead>\n",
       "    <tr style=\"text-align: right;\">\n",
       "      <th></th>\n",
       "      <th>country</th>\n",
       "      <th>STATE</th>\n",
       "      <th>LOCALITY</th>\n",
       "      <th>LOCALITY ID</th>\n",
       "      <th>LOCALITY TYPE</th>\n",
       "      <th>LATITUDE</th>\n",
       "      <th>LONGITUDE</th>\n",
       "      <th>OBSERVER ID</th>\n",
       "      <th>SAMPLING EVENT IDENTIFIER</th>\n",
       "      <th>GROUP IDENTIFIER</th>\n",
       "    </tr>\n",
       "  </thead>\n",
       "  <tbody>\n",
       "    <tr>\n",
       "      <td>0</td>\n",
       "      <td>United States</td>\n",
       "      <td>New York</td>\n",
       "      <td>12203 Albany</td>\n",
       "      <td>L11418</td>\n",
       "      <td>PC</td>\n",
       "      <td>42.675150</td>\n",
       "      <td>-73.823480</td>\n",
       "      <td>obs16693</td>\n",
       "      <td>S922566</td>\n",
       "      <td></td>\n",
       "    </tr>\n",
       "    <tr>\n",
       "      <td>1</td>\n",
       "      <td>United States</td>\n",
       "      <td>New York</td>\n",
       "      <td>12203 Albany</td>\n",
       "      <td>L11418</td>\n",
       "      <td>PC</td>\n",
       "      <td>42.675150</td>\n",
       "      <td>-73.823480</td>\n",
       "      <td>obs16693</td>\n",
       "      <td>S922570</td>\n",
       "      <td></td>\n",
       "    </tr>\n",
       "    <tr>\n",
       "      <td>2</td>\n",
       "      <td>United States</td>\n",
       "      <td>New York</td>\n",
       "      <td>13045 Cortland</td>\n",
       "      <td>L11457</td>\n",
       "      <td>PC</td>\n",
       "      <td>42.594610</td>\n",
       "      <td>-76.179810</td>\n",
       "      <td>obs0</td>\n",
       "      <td>S922732</td>\n",
       "      <td></td>\n",
       "    </tr>\n",
       "    <tr>\n",
       "      <td>3</td>\n",
       "      <td>Canada</td>\n",
       "      <td>Ontario</td>\n",
       "      <td>ONT, Ottawa South</td>\n",
       "      <td>L142631</td>\n",
       "      <td>P</td>\n",
       "      <td>45.291786</td>\n",
       "      <td>-75.676125</td>\n",
       "      <td>obs18664</td>\n",
       "      <td>S1015872</td>\n",
       "      <td></td>\n",
       "    </tr>\n",
       "    <tr>\n",
       "      <td>4</td>\n",
       "      <td>United States</td>\n",
       "      <td>Nevada</td>\n",
       "      <td>Gardnerville Area</td>\n",
       "      <td>L142280</td>\n",
       "      <td>P</td>\n",
       "      <td>38.870560</td>\n",
       "      <td>-119.777924</td>\n",
       "      <td>obs21134</td>\n",
       "      <td>S1015970</td>\n",
       "      <td></td>\n",
       "    </tr>\n",
       "  </tbody>\n",
       "</table>\n",
       "</div>"
      ],
      "text/plain": [
       "         country     STATE           LOCALITY LOCALITY ID LOCALITY TYPE  \\\n",
       "0  United States  New York       12203 Albany      L11418            PC   \n",
       "1  United States  New York       12203 Albany      L11418            PC   \n",
       "2  United States  New York     13045 Cortland      L11457            PC   \n",
       "3         Canada   Ontario  ONT, Ottawa South     L142631             P   \n",
       "4  United States    Nevada  Gardnerville Area     L142280             P   \n",
       "\n",
       "    LATITUDE   LONGITUDE OBSERVER ID SAMPLING EVENT IDENTIFIER  \\\n",
       "0  42.675150  -73.823480    obs16693                   S922566   \n",
       "1  42.675150  -73.823480    obs16693                   S922570   \n",
       "2  42.594610  -76.179810        obs0                   S922732   \n",
       "3  45.291786  -75.676125    obs18664                  S1015872   \n",
       "4  38.870560 -119.777924    obs21134                  S1015970   \n",
       "\n",
       "  GROUP IDENTIFIER  \n",
       "0                   \n",
       "1                   \n",
       "2                   \n",
       "3                   \n",
       "4                   "
      ]
     },
     "execution_count": 2,
     "metadata": {},
     "output_type": "execute_result"
    }
   ],
   "source": [
    "import pandas as pd\n",
    "df = pd.read_csv('complete-checklists.txt', delimiter = \"\\t\", keep_default_na=False)\n",
    "df.head()"
   ]
  },
  {
   "cell_type": "markdown",
   "metadata": {},
   "source": [
    "### Number of checklists per hotspot (sorted in descending order)\n",
    "- `n_checklists.csv` was also calculated from R code "
   ]
  },
  {
   "cell_type": "code",
   "execution_count": 3,
   "metadata": {},
   "outputs": [
    {
     "name": "stdout",
     "output_type": "stream",
     "text": [
      "(98875, 3)\n",
      "<class 'pandas.core.frame.DataFrame'>\n"
     ]
    },
    {
     "data": {
      "text/html": [
       "<div>\n",
       "<style scoped>\n",
       "    .dataframe tbody tr th:only-of-type {\n",
       "        vertical-align: middle;\n",
       "    }\n",
       "\n",
       "    .dataframe tbody tr th {\n",
       "        vertical-align: top;\n",
       "    }\n",
       "\n",
       "    .dataframe thead th {\n",
       "        text-align: right;\n",
       "    }\n",
       "</style>\n",
       "<table border=\"1\" class=\"dataframe\">\n",
       "  <thead>\n",
       "    <tr style=\"text-align: right;\">\n",
       "      <th></th>\n",
       "      <th>LOCALITY ID</th>\n",
       "      <th>LOCALITY</th>\n",
       "      <th>n</th>\n",
       "    </tr>\n",
       "  </thead>\n",
       "  <tbody>\n",
       "    <tr>\n",
       "      <td>26205</td>\n",
       "      <td>L2329015</td>\n",
       "      <td>Observatorio de Cazalla</td>\n",
       "      <td>30334</td>\n",
       "    </tr>\n",
       "    <tr>\n",
       "      <td>26274</td>\n",
       "      <td>L2334855</td>\n",
       "      <td>Algeciras--Observatorio de Algarrobo</td>\n",
       "      <td>26624</td>\n",
       "    </tr>\n",
       "    <tr>\n",
       "      <td>22493</td>\n",
       "      <td>L191106</td>\n",
       "      <td>Central Park</td>\n",
       "      <td>20743</td>\n",
       "    </tr>\n",
       "    <tr>\n",
       "      <td>4978</td>\n",
       "      <td>L109516</td>\n",
       "      <td>Prospect Park</td>\n",
       "      <td>20687</td>\n",
       "    </tr>\n",
       "    <tr>\n",
       "      <td>4735</td>\n",
       "      <td>L109132</td>\n",
       "      <td>Cape Island--Cape May Point SP (CMPSP)</td>\n",
       "      <td>13178</td>\n",
       "    </tr>\n",
       "  </tbody>\n",
       "</table>\n",
       "</div>"
      ],
      "text/plain": [
       "      LOCALITY ID                                LOCALITY      n\n",
       "26205    L2329015                 Observatorio de Cazalla  30334\n",
       "26274    L2334855    Algeciras--Observatorio de Algarrobo  26624\n",
       "22493     L191106                            Central Park  20743\n",
       "4978      L109516                           Prospect Park  20687\n",
       "4735      L109132  Cape Island--Cape May Point SP (CMPSP)  13178"
      ]
     },
     "execution_count": 3,
     "metadata": {},
     "output_type": "execute_result"
    }
   ],
   "source": [
    "import pandas as pd\n",
    "\n",
    "# n_checklists is the number of complete checklist per hotspot\n",
    "df_nc_hotspot = pd.read_csv('n_checklists.csv', keep_default_na=False)\n",
    "print(df_nc_hotspot.shape)\n",
    "\n",
    "# sort by number of complete checklists\n",
    "df_nc_hotspot_sorted = df_nc_hotspot.sort_values(by=['n'], ascending = False)\n",
    "print(type(df_nc_hotspot_sorted))\n",
    "\n",
    "# Rename header of the dataframe\n",
    "df_new = df_nc_hotspot_sorted.rename({'locality_id': 'LOCALITY ID', 'locality': 'LOCALITY'}, axis=1)\n",
    "df_new.head()"
   ]
  },
  {
   "cell_type": "markdown",
   "metadata": {},
   "source": [
    "### Merge two dataframes such that each hotspot has:\n",
    "- 'number' of complete checklists\n",
    "- other informations like latitude longitude information etc"
   ]
  },
  {
   "cell_type": "code",
   "execution_count": 4,
   "metadata": {},
   "outputs": [],
   "source": [
    "# This step takes time to execute. May lead to kernel restarting\n",
    "df_checklist_count = df_new.merge(df, on ='LOCALITY', how='inner') "
   ]
  },
  {
   "cell_type": "markdown",
   "metadata": {},
   "source": [
    "### Select only US based hotspots"
   ]
  },
  {
   "cell_type": "code",
   "execution_count": 5,
   "metadata": {},
   "outputs": [],
   "source": [
    "df_checklist_usa = df_checklist_count.loc[df_checklist_count['country'] == 'United States']"
   ]
  },
  {
   "cell_type": "markdown",
   "metadata": {},
   "source": [
    "### Drop duplicate columns when data was merged"
   ]
  },
  {
   "cell_type": "code",
   "execution_count": 6,
   "metadata": {},
   "outputs": [
    {
     "name": "stdout",
     "output_type": "stream",
     "text": [
      "(5129776, 11)\n"
     ]
    },
    {
     "data": {
      "text/html": [
       "<div>\n",
       "<style scoped>\n",
       "    .dataframe tbody tr th:only-of-type {\n",
       "        vertical-align: middle;\n",
       "    }\n",
       "\n",
       "    .dataframe tbody tr th {\n",
       "        vertical-align: top;\n",
       "    }\n",
       "\n",
       "    .dataframe thead th {\n",
       "        text-align: right;\n",
       "    }\n",
       "</style>\n",
       "<table border=\"1\" class=\"dataframe\">\n",
       "  <thead>\n",
       "    <tr style=\"text-align: right;\">\n",
       "      <th></th>\n",
       "      <th>LOCALITY ID_x</th>\n",
       "      <th>LOCALITY</th>\n",
       "      <th>n</th>\n",
       "      <th>country</th>\n",
       "      <th>STATE</th>\n",
       "      <th>LOCALITY TYPE</th>\n",
       "      <th>LATITUDE</th>\n",
       "      <th>LONGITUDE</th>\n",
       "      <th>OBSERVER ID</th>\n",
       "      <th>SAMPLING EVENT IDENTIFIER</th>\n",
       "      <th>GROUP IDENTIFIER</th>\n",
       "    </tr>\n",
       "  </thead>\n",
       "  <tbody>\n",
       "    <tr>\n",
       "      <td>57243</td>\n",
       "      <td>L191106</td>\n",
       "      <td>Central Park</td>\n",
       "      <td>20743</td>\n",
       "      <td>United States</td>\n",
       "      <td>New York</td>\n",
       "      <td>H</td>\n",
       "      <td>40.771548</td>\n",
       "      <td>-73.972482</td>\n",
       "      <td>obs44102</td>\n",
       "      <td>S1746158</td>\n",
       "      <td></td>\n",
       "    </tr>\n",
       "    <tr>\n",
       "      <td>57244</td>\n",
       "      <td>L191106</td>\n",
       "      <td>Central Park</td>\n",
       "      <td>20743</td>\n",
       "      <td>United States</td>\n",
       "      <td>New York</td>\n",
       "      <td>H</td>\n",
       "      <td>40.771548</td>\n",
       "      <td>-73.972482</td>\n",
       "      <td>obs44102</td>\n",
       "      <td>S1767831</td>\n",
       "      <td></td>\n",
       "    </tr>\n",
       "    <tr>\n",
       "      <td>57245</td>\n",
       "      <td>L191106</td>\n",
       "      <td>Central Park</td>\n",
       "      <td>20743</td>\n",
       "      <td>United States</td>\n",
       "      <td>New York</td>\n",
       "      <td>H</td>\n",
       "      <td>40.771548</td>\n",
       "      <td>-73.972482</td>\n",
       "      <td>obs27480</td>\n",
       "      <td>S1994726</td>\n",
       "      <td></td>\n",
       "    </tr>\n",
       "    <tr>\n",
       "      <td>57246</td>\n",
       "      <td>L191106</td>\n",
       "      <td>Central Park</td>\n",
       "      <td>20743</td>\n",
       "      <td>United States</td>\n",
       "      <td>New York</td>\n",
       "      <td>H</td>\n",
       "      <td>40.771548</td>\n",
       "      <td>-73.972482</td>\n",
       "      <td>obs37690</td>\n",
       "      <td>S2021897</td>\n",
       "      <td></td>\n",
       "    </tr>\n",
       "    <tr>\n",
       "      <td>57247</td>\n",
       "      <td>L191106</td>\n",
       "      <td>Central Park</td>\n",
       "      <td>20743</td>\n",
       "      <td>United States</td>\n",
       "      <td>New York</td>\n",
       "      <td>H</td>\n",
       "      <td>40.771548</td>\n",
       "      <td>-73.972482</td>\n",
       "      <td>obs59506</td>\n",
       "      <td>S2029768</td>\n",
       "      <td></td>\n",
       "    </tr>\n",
       "  </tbody>\n",
       "</table>\n",
       "</div>"
      ],
      "text/plain": [
       "      LOCALITY ID_x      LOCALITY      n        country     STATE  \\\n",
       "57243       L191106  Central Park  20743  United States  New York   \n",
       "57244       L191106  Central Park  20743  United States  New York   \n",
       "57245       L191106  Central Park  20743  United States  New York   \n",
       "57246       L191106  Central Park  20743  United States  New York   \n",
       "57247       L191106  Central Park  20743  United States  New York   \n",
       "\n",
       "      LOCALITY TYPE   LATITUDE  LONGITUDE OBSERVER ID  \\\n",
       "57243             H  40.771548 -73.972482    obs44102   \n",
       "57244             H  40.771548 -73.972482    obs44102   \n",
       "57245             H  40.771548 -73.972482    obs27480   \n",
       "57246             H  40.771548 -73.972482    obs37690   \n",
       "57247             H  40.771548 -73.972482    obs59506   \n",
       "\n",
       "      SAMPLING EVENT IDENTIFIER GROUP IDENTIFIER  \n",
       "57243                  S1746158                   \n",
       "57244                  S1767831                   \n",
       "57245                  S1994726                   \n",
       "57246                  S2021897                   \n",
       "57247                  S2029768                   "
      ]
     },
     "execution_count": 6,
     "metadata": {},
     "output_type": "execute_result"
    }
   ],
   "source": [
    "df_checklist_usa_uc = df_checklist_usa.drop('LOCALITY ID_y', 1) # uc in df_checklist_usa_uc: unique column\n",
    "print(df_checklist_usa_uc.shape)\n",
    "df_checklist_usa_uc.head(5)"
   ]
  },
  {
   "cell_type": "markdown",
   "metadata": {},
   "source": [
    "### Drop duplicate rows"
   ]
  },
  {
   "cell_type": "code",
   "execution_count": 7,
   "metadata": {},
   "outputs": [
    {
     "name": "stdout",
     "output_type": "stream",
     "text": [
      "Number of unique hotspots in USA 41817\n"
     ]
    },
    {
     "data": {
      "text/html": [
       "<div>\n",
       "<style scoped>\n",
       "    .dataframe tbody tr th:only-of-type {\n",
       "        vertical-align: middle;\n",
       "    }\n",
       "\n",
       "    .dataframe tbody tr th {\n",
       "        vertical-align: top;\n",
       "    }\n",
       "\n",
       "    .dataframe thead th {\n",
       "        text-align: right;\n",
       "    }\n",
       "</style>\n",
       "<table border=\"1\" class=\"dataframe\">\n",
       "  <thead>\n",
       "    <tr style=\"text-align: right;\">\n",
       "      <th></th>\n",
       "      <th>LOCALITY ID_x</th>\n",
       "      <th>LOCALITY</th>\n",
       "      <th>n</th>\n",
       "      <th>country</th>\n",
       "      <th>STATE</th>\n",
       "      <th>LOCALITY ID_y</th>\n",
       "      <th>LOCALITY TYPE</th>\n",
       "      <th>LATITUDE</th>\n",
       "      <th>LONGITUDE</th>\n",
       "      <th>OBSERVER ID</th>\n",
       "      <th>SAMPLING EVENT IDENTIFIER</th>\n",
       "      <th>GROUP IDENTIFIER</th>\n",
       "    </tr>\n",
       "  </thead>\n",
       "  <tbody>\n",
       "    <tr>\n",
       "      <td>57243</td>\n",
       "      <td>L191106</td>\n",
       "      <td>Central Park</td>\n",
       "      <td>20743</td>\n",
       "      <td>United States</td>\n",
       "      <td>New York</td>\n",
       "      <td>L191106</td>\n",
       "      <td>H</td>\n",
       "      <td>40.771548</td>\n",
       "      <td>-73.972482</td>\n",
       "      <td>obs44102</td>\n",
       "      <td>S1746158</td>\n",
       "      <td></td>\n",
       "    </tr>\n",
       "    <tr>\n",
       "      <td>147211</td>\n",
       "      <td>L109516</td>\n",
       "      <td>Prospect Park</td>\n",
       "      <td>20687</td>\n",
       "      <td>United States</td>\n",
       "      <td>New York</td>\n",
       "      <td>L109516</td>\n",
       "      <td>H</td>\n",
       "      <td>40.660284</td>\n",
       "      <td>-73.968953</td>\n",
       "      <td>obs18140</td>\n",
       "      <td>S955217</td>\n",
       "      <td></td>\n",
       "    </tr>\n",
       "    <tr>\n",
       "      <td>214627</td>\n",
       "      <td>L109132</td>\n",
       "      <td>Cape Island--Cape May Point SP (CMPSP)</td>\n",
       "      <td>13178</td>\n",
       "      <td>United States</td>\n",
       "      <td>New Jersey</td>\n",
       "      <td>L109132</td>\n",
       "      <td>H</td>\n",
       "      <td>38.933827</td>\n",
       "      <td>-74.955085</td>\n",
       "      <td>obs16394</td>\n",
       "      <td>S1206533</td>\n",
       "      <td></td>\n",
       "    </tr>\n",
       "    <tr>\n",
       "      <td>258869</td>\n",
       "      <td>L109339</td>\n",
       "      <td>IRWD San Joaquin Marsh &amp; Wildlife Sanctuary, I...</td>\n",
       "      <td>10758</td>\n",
       "      <td>United States</td>\n",
       "      <td>California</td>\n",
       "      <td>L109339</td>\n",
       "      <td>H</td>\n",
       "      <td>33.663727</td>\n",
       "      <td>-117.842681</td>\n",
       "      <td>obs38282</td>\n",
       "      <td>S1645754</td>\n",
       "      <td></td>\n",
       "    </tr>\n",
       "    <tr>\n",
       "      <td>271525</td>\n",
       "      <td>L207391</td>\n",
       "      <td>Mt. Auburn Cemetery</td>\n",
       "      <td>10549</td>\n",
       "      <td>United States</td>\n",
       "      <td>Massachusetts</td>\n",
       "      <td>L1320096</td>\n",
       "      <td>P</td>\n",
       "      <td>42.373470</td>\n",
       "      <td>-71.142010</td>\n",
       "      <td>obs284928</td>\n",
       "      <td>S9290576</td>\n",
       "      <td></td>\n",
       "    </tr>\n",
       "  </tbody>\n",
       "</table>\n",
       "</div>"
      ],
      "text/plain": [
       "       LOCALITY ID_x                                           LOCALITY  \\\n",
       "57243        L191106                                       Central Park   \n",
       "147211       L109516                                      Prospect Park   \n",
       "214627       L109132             Cape Island--Cape May Point SP (CMPSP)   \n",
       "258869       L109339  IRWD San Joaquin Marsh & Wildlife Sanctuary, I...   \n",
       "271525       L207391                                Mt. Auburn Cemetery   \n",
       "\n",
       "            n        country          STATE LOCALITY ID_y LOCALITY TYPE  \\\n",
       "57243   20743  United States       New York       L191106             H   \n",
       "147211  20687  United States       New York       L109516             H   \n",
       "214627  13178  United States     New Jersey       L109132             H   \n",
       "258869  10758  United States     California       L109339             H   \n",
       "271525  10549  United States  Massachusetts      L1320096             P   \n",
       "\n",
       "         LATITUDE   LONGITUDE OBSERVER ID SAMPLING EVENT IDENTIFIER  \\\n",
       "57243   40.771548  -73.972482    obs44102                  S1746158   \n",
       "147211  40.660284  -73.968953    obs18140                   S955217   \n",
       "214627  38.933827  -74.955085    obs16394                  S1206533   \n",
       "258869  33.663727 -117.842681    obs38282                  S1645754   \n",
       "271525  42.373470  -71.142010   obs284928                  S9290576   \n",
       "\n",
       "       GROUP IDENTIFIER  \n",
       "57243                    \n",
       "147211                   \n",
       "214627                   \n",
       "258869                   \n",
       "271525                   "
      ]
     },
     "execution_count": 7,
     "metadata": {},
     "output_type": "execute_result"
    }
   ],
   "source": [
    "df_checklist_usa_unique = df_checklist_usa.drop_duplicates('LOCALITY ID_x')\n",
    "df_checklist_usa_unique = df_checklist_usa_unique.sort_values(by=['n'], ascending = False)\n",
    "print(\"Number of unique hotspots in USA\", len(df_checklist_usa_unique))\n",
    "df_checklist_usa_unique.head()"
   ]
  },
  {
   "cell_type": "markdown",
   "metadata": {},
   "source": [
    "### Selectonly conttinental USA"
   ]
  },
  {
   "cell_type": "code",
   "execution_count": 8,
   "metadata": {},
   "outputs": [],
   "source": [
    "# c_usa = continental USA\n",
    "\n",
    "df_c_usa = df_checklist_usa_unique[(df_checklist_usa_unique.STATE != \"Alaska\") &\n",
    "                                   (df_checklist_usa_unique.STATE != \"District of Columbia\") &\n",
    "                                   (df_checklist_usa_unique.STATE != \"Hawaii\")]"
   ]
  },
  {
   "cell_type": "markdown",
   "metadata": {},
   "source": [
    "### All hotspots with their number of checklists in Continental USA"
   ]
  },
  {
   "cell_type": "code",
   "execution_count": 9,
   "metadata": {},
   "outputs": [
    {
     "name": "stdout",
     "output_type": "stream",
     "text": [
      "Number of hotspots in continental USA 40963\n"
     ]
    },
    {
     "data": {
      "text/html": [
       "<div>\n",
       "<style scoped>\n",
       "    .dataframe tbody tr th:only-of-type {\n",
       "        vertical-align: middle;\n",
       "    }\n",
       "\n",
       "    .dataframe tbody tr th {\n",
       "        vertical-align: top;\n",
       "    }\n",
       "\n",
       "    .dataframe thead th {\n",
       "        text-align: right;\n",
       "    }\n",
       "</style>\n",
       "<table border=\"1\" class=\"dataframe\">\n",
       "  <thead>\n",
       "    <tr style=\"text-align: right;\">\n",
       "      <th></th>\n",
       "      <th>LOCALITY ID_x</th>\n",
       "      <th>LOCALITY</th>\n",
       "      <th>n</th>\n",
       "      <th>country</th>\n",
       "      <th>STATE</th>\n",
       "      <th>LOCALITY ID_y</th>\n",
       "      <th>LOCALITY TYPE</th>\n",
       "      <th>LATITUDE</th>\n",
       "      <th>LONGITUDE</th>\n",
       "      <th>OBSERVER ID</th>\n",
       "      <th>SAMPLING EVENT IDENTIFIER</th>\n",
       "      <th>GROUP IDENTIFIER</th>\n",
       "    </tr>\n",
       "  </thead>\n",
       "  <tbody>\n",
       "    <tr>\n",
       "      <td>57243</td>\n",
       "      <td>L191106</td>\n",
       "      <td>Central Park</td>\n",
       "      <td>20743</td>\n",
       "      <td>United States</td>\n",
       "      <td>New York</td>\n",
       "      <td>L191106</td>\n",
       "      <td>H</td>\n",
       "      <td>40.771548</td>\n",
       "      <td>-73.972482</td>\n",
       "      <td>obs44102</td>\n",
       "      <td>S1746158</td>\n",
       "      <td></td>\n",
       "    </tr>\n",
       "    <tr>\n",
       "      <td>147211</td>\n",
       "      <td>L109516</td>\n",
       "      <td>Prospect Park</td>\n",
       "      <td>20687</td>\n",
       "      <td>United States</td>\n",
       "      <td>New York</td>\n",
       "      <td>L109516</td>\n",
       "      <td>H</td>\n",
       "      <td>40.660284</td>\n",
       "      <td>-73.968953</td>\n",
       "      <td>obs18140</td>\n",
       "      <td>S955217</td>\n",
       "      <td></td>\n",
       "    </tr>\n",
       "    <tr>\n",
       "      <td>214627</td>\n",
       "      <td>L109132</td>\n",
       "      <td>Cape Island--Cape May Point SP (CMPSP)</td>\n",
       "      <td>13178</td>\n",
       "      <td>United States</td>\n",
       "      <td>New Jersey</td>\n",
       "      <td>L109132</td>\n",
       "      <td>H</td>\n",
       "      <td>38.933827</td>\n",
       "      <td>-74.955085</td>\n",
       "      <td>obs16394</td>\n",
       "      <td>S1206533</td>\n",
       "      <td></td>\n",
       "    </tr>\n",
       "    <tr>\n",
       "      <td>258869</td>\n",
       "      <td>L109339</td>\n",
       "      <td>IRWD San Joaquin Marsh &amp; Wildlife Sanctuary, I...</td>\n",
       "      <td>10758</td>\n",
       "      <td>United States</td>\n",
       "      <td>California</td>\n",
       "      <td>L109339</td>\n",
       "      <td>H</td>\n",
       "      <td>33.663727</td>\n",
       "      <td>-117.842681</td>\n",
       "      <td>obs38282</td>\n",
       "      <td>S1645754</td>\n",
       "      <td></td>\n",
       "    </tr>\n",
       "    <tr>\n",
       "      <td>271525</td>\n",
       "      <td>L207391</td>\n",
       "      <td>Mt. Auburn Cemetery</td>\n",
       "      <td>10549</td>\n",
       "      <td>United States</td>\n",
       "      <td>Massachusetts</td>\n",
       "      <td>L1320096</td>\n",
       "      <td>P</td>\n",
       "      <td>42.373470</td>\n",
       "      <td>-71.142010</td>\n",
       "      <td>obs284928</td>\n",
       "      <td>S9290576</td>\n",
       "      <td></td>\n",
       "    </tr>\n",
       "  </tbody>\n",
       "</table>\n",
       "</div>"
      ],
      "text/plain": [
       "       LOCALITY ID_x                                           LOCALITY  \\\n",
       "57243        L191106                                       Central Park   \n",
       "147211       L109516                                      Prospect Park   \n",
       "214627       L109132             Cape Island--Cape May Point SP (CMPSP)   \n",
       "258869       L109339  IRWD San Joaquin Marsh & Wildlife Sanctuary, I...   \n",
       "271525       L207391                                Mt. Auburn Cemetery   \n",
       "\n",
       "            n        country          STATE LOCALITY ID_y LOCALITY TYPE  \\\n",
       "57243   20743  United States       New York       L191106             H   \n",
       "147211  20687  United States       New York       L109516             H   \n",
       "214627  13178  United States     New Jersey       L109132             H   \n",
       "258869  10758  United States     California       L109339             H   \n",
       "271525  10549  United States  Massachusetts      L1320096             P   \n",
       "\n",
       "         LATITUDE   LONGITUDE OBSERVER ID SAMPLING EVENT IDENTIFIER  \\\n",
       "57243   40.771548  -73.972482    obs44102                  S1746158   \n",
       "147211  40.660284  -73.968953    obs18140                   S955217   \n",
       "214627  38.933827  -74.955085    obs16394                  S1206533   \n",
       "258869  33.663727 -117.842681    obs38282                  S1645754   \n",
       "271525  42.373470  -71.142010   obs284928                  S9290576   \n",
       "\n",
       "       GROUP IDENTIFIER  \n",
       "57243                    \n",
       "147211                   \n",
       "214627                   \n",
       "258869                   \n",
       "271525                   "
      ]
     },
     "execution_count": 9,
     "metadata": {},
     "output_type": "execute_result"
    }
   ],
   "source": [
    "df_usa_count = df_c_usa.sort_values(by=['n'], ascending = False)\n",
    "print(\"Number of hotspots in continental USA\", len(df_usa_count))\n",
    "df_usa_count.head()"
   ]
  },
  {
   "cell_type": "code",
   "execution_count": 10,
   "metadata": {},
   "outputs": [
    {
     "name": "stdout",
     "output_type": "stream",
     "text": [
      "11981\n"
     ]
    }
   ],
   "source": [
    "# Places with complete checklist > 50\n",
    "\n",
    "threshold = 50\n",
    "df_usa_count_threshold = df_usa_count[(df_usa_count['n'] >= threshold)]\n",
    "print(len(df_usa_count_threshold))"
   ]
  },
  {
   "cell_type": "markdown",
   "metadata": {},
   "source": [
    "### Create a dict with locaity ids and country"
   ]
  },
  {
   "cell_type": "code",
   "execution_count": null,
   "metadata": {},
   "outputs": [],
   "source": [
    "# df_usa_loc_country = df_usa_count[['LOCALITY ID_x', 'country']].values\n",
    "# dict_usa = dict(df_usa_loc_country)\n",
    "# print (\"Length of dictionary:\", len(dict_usa))\n",
    "# # dict_usa"
   ]
  },
  {
   "cell_type": "markdown",
   "metadata": {},
   "source": [
    "### Make a list of hostspot IDs"
   ]
  },
  {
   "cell_type": "code",
   "execution_count": 11,
   "metadata": {},
   "outputs": [
    {
     "name": "stdout",
     "output_type": "stream",
     "text": [
      "Length of list of locality: 11981\n"
     ]
    },
    {
     "data": {
      "text/plain": [
       "'L191106'"
      ]
     },
     "execution_count": 11,
     "metadata": {},
     "output_type": "execute_result"
    }
   ],
   "source": [
    "list_loc = df_usa_count_threshold['LOCALITY ID_x'].to_list()\n",
    "print (\"Length of list of locality:\", len(list_loc))\n",
    "list_loc[0]"
   ]
  },
  {
   "cell_type": "markdown",
   "metadata": {},
   "source": [
    "### Verify if a locality exists in the list `list_loc`. \n",
    "This will be needed when we need to filter the whole data file (250 GB+) to distill only those rows which are associated with hotspot id present in `list_loc`"
   ]
  },
  {
   "cell_type": "code",
   "execution_count": 12,
   "metadata": {},
   "outputs": [
    {
     "data": {
      "text/plain": [
       "True"
      ]
     },
     "execution_count": 12,
     "metadata": {},
     "output_type": "execute_result"
    }
   ],
   "source": [
    "\"L348850\" in list_loc"
   ]
  },
  {
   "cell_type": "markdown",
   "metadata": {},
   "source": [
    "### Read ebird data\n",
    "- File location : /miniscratch/srishtiy/ebd_relJan-2021.txt\n",
    "- This file is very large (~250 GB+) and needs to read in chunks"
   ]
  },
  {
   "cell_type": "code",
   "execution_count": 14,
   "metadata": {},
   "outputs": [],
   "source": [
    "# EBIRD DATA FILE LOCATION\n",
    "\n",
    "base_folder = '/miniscratch/srishtiy/'\n",
    "data = base_folder + 'ebd_relJan-2021.txt'\n"
   ]
  },
  {
   "cell_type": "markdown",
   "metadata": {},
   "source": [
    "### Read eBIRD data file in chunks because original file is huge.\n",
    "- We want all columns for now so we are not filtering column wise\n",
    "- How chuunk works: https://stackoverflow.com/questions/25962114/how-do-i-read-a-large-csv-file-with-pandas\n",
    "- chunksize = 1000 implies 1000 rows in each chunk will be processed"
   ]
  },
  {
   "cell_type": "code",
   "execution_count": 16,
   "metadata": {},
   "outputs": [],
   "source": [
    "reader = pd.read_csv(data , \n",
    "                     delimiter = \"\\t\",\n",
    "                     chunksize = 1000\n",
    "                    )"
   ]
  },
  {
   "cell_type": "markdown",
   "metadata": {},
   "source": [
    "### Read the data in chunks \n",
    "- Save the processed file in a csv file\n",
    "- Sample file generated is usa_hotspot_data.csv and is available on github"
   ]
  },
  {
   "cell_type": "markdown",
   "metadata": {},
   "source": [
    "**WARNING: DON'T RUN THIS CELL INSTANTLY. TAKES HOURS**"
   ]
  },
  {
   "cell_type": "code",
   "execution_count": null,
   "metadata": {},
   "outputs": [],
   "source": [
    "# Remove CSV file if it already exists\n",
    "# Running this cell take a long time so need to work on how to do it. \n",
    "\n",
    "output_path = 'usa_hotspot_data.csv'\n",
    "print(\"Output file: \", output_path)\n",
    "\n",
    "try:\n",
    "    os.remove(output_path)\n",
    "except OSError:\n",
    "    pass\n",
    "\n",
    "# Read chunks and save to a new csv\n",
    "for i,chunk in enumerate(reader):\n",
    "        usa_chunk = chunk.loc[chunk['COUNTRY'] == 'United States']\n",
    "        usa_chunk_locality = usa_chunk.loc[usa_chunk['LOCALITY ID'].isin(list_loc)]\n",
    "        usa_chunk_locality.to_csv(output_path ,mode='a', header=not os.path.exists(output_path))   \n",
    "        # Progress Bar\n",
    "        if (i% 1000 == 0):\n",
    "            print(\"#\", end ='')"
   ]
  }
 ],
 "metadata": {
  "kernelspec": {
   "display_name": "Python 3",
   "language": "python",
   "name": "python3"
  },
  "language_info": {
   "codemirror_mode": {
    "name": "ipython",
    "version": 3
   },
   "file_extension": ".py",
   "mimetype": "text/x-python",
   "name": "python",
   "nbconvert_exporter": "python",
   "pygments_lexer": "ipython3",
   "version": "3.7.4"
  }
 },
 "nbformat": 4,
 "nbformat_minor": 4
}
