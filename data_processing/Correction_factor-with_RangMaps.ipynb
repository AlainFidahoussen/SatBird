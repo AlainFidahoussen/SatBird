{
 "cells": [
  {
   "cell_type": "code",
   "execution_count": 1,
   "metadata": {},
   "outputs": [],
   "source": [
    "import pickle\n",
    "import pandas as pd\n",
    "import os\n",
    "from collections import defaultdict"
   ]
  },
  {
   "cell_type": "code",
   "execution_count": 8,
   "metadata": {},
   "outputs": [],
   "source": [
    "#How complete checklists looks before & after Filtering Data for month of June \n"
   ]
  },
  {
   "cell_type": "code",
   "execution_count": 9,
   "metadata": {},
   "outputs": [
    {
     "data": {
      "text/plain": [
       "False"
      ]
     },
     "execution_count": 9,
     "metadata": {},
     "output_type": "execute_result"
    }
   ],
   "source": [
    "with open('/network/scratch/t/tengmeli/scratch/ecosystem-embedding/ebird_data/L10000991_complete_checklists.pkl', 'rb') as f:\n",
    "    data = pickle.load(f)\n",
    "data=data[data['MONTH']=='June']\n",
    "data['SPECIES_COMPLETE_CHECKLISTS'].isnull().any()"
   ]
  },
  {
   "cell_type": "code",
   "execution_count": 10,
   "metadata": {},
   "outputs": [
    {
     "data": {
      "text/html": [
       "<div>\n",
       "<style scoped>\n",
       "    .dataframe tbody tr th:only-of-type {\n",
       "        vertical-align: middle;\n",
       "    }\n",
       "\n",
       "    .dataframe tbody tr th {\n",
       "        vertical-align: top;\n",
       "    }\n",
       "\n",
       "    .dataframe thead th {\n",
       "        text-align: right;\n",
       "    }\n",
       "</style>\n",
       "<table border=\"1\" class=\"dataframe\">\n",
       "  <thead>\n",
       "    <tr style=\"text-align: right;\">\n",
       "      <th></th>\n",
       "      <th>Month_Num</th>\n",
       "      <th>MONTH</th>\n",
       "      <th>SCIENTIFIC NAME</th>\n",
       "      <th>SAMPLING EVENT IDENTIFIER</th>\n",
       "      <th>SPECIES_COMPLETE_CHECKLISTS</th>\n",
       "      <th>MONTHWISE_COMPLETE_CHECKLISTS</th>\n",
       "    </tr>\n",
       "  </thead>\n",
       "  <tbody>\n",
       "    <tr>\n",
       "      <th>3971</th>\n",
       "      <td>6</td>\n",
       "      <td>June</td>\n",
       "      <td>Acanthis flammea</td>\n",
       "      <td>NaN</td>\n",
       "      <td>0</td>\n",
       "      <td>2</td>\n",
       "    </tr>\n",
       "    <tr>\n",
       "      <th>3970</th>\n",
       "      <td>6</td>\n",
       "      <td>June</td>\n",
       "      <td>Acanthis hornemanni</td>\n",
       "      <td>NaN</td>\n",
       "      <td>0</td>\n",
       "      <td>2</td>\n",
       "    </tr>\n",
       "    <tr>\n",
       "      <th>3969</th>\n",
       "      <td>6</td>\n",
       "      <td>June</td>\n",
       "      <td>Accipiter cooperii</td>\n",
       "      <td>NaN</td>\n",
       "      <td>0</td>\n",
       "      <td>2</td>\n",
       "    </tr>\n",
       "    <tr>\n",
       "      <th>3968</th>\n",
       "      <td>6</td>\n",
       "      <td>June</td>\n",
       "      <td>Accipiter gentilis</td>\n",
       "      <td>NaN</td>\n",
       "      <td>0</td>\n",
       "      <td>2</td>\n",
       "    </tr>\n",
       "    <tr>\n",
       "      <th>3967</th>\n",
       "      <td>6</td>\n",
       "      <td>June</td>\n",
       "      <td>Accipiter striatus</td>\n",
       "      <td>NaN</td>\n",
       "      <td>0</td>\n",
       "      <td>2</td>\n",
       "    </tr>\n",
       "  </tbody>\n",
       "</table>\n",
       "</div>"
      ],
      "text/plain": [
       "     Month_Num MONTH      SCIENTIFIC NAME SAMPLING EVENT IDENTIFIER  \\\n",
       "3971         6  June     Acanthis flammea                       NaN   \n",
       "3970         6  June  Acanthis hornemanni                       NaN   \n",
       "3969         6  June   Accipiter cooperii                       NaN   \n",
       "3968         6  June   Accipiter gentilis                       NaN   \n",
       "3967         6  June   Accipiter striatus                       NaN   \n",
       "\n",
       "      SPECIES_COMPLETE_CHECKLISTS  MONTHWISE_COMPLETE_CHECKLISTS  \n",
       "3971                            0                              2  \n",
       "3970                            0                              2  \n",
       "3969                            0                              2  \n",
       "3968                            0                              2  \n",
       "3967                            0                              2  "
      ]
     },
     "execution_count": 10,
     "metadata": {},
     "output_type": "execute_result"
    }
   ],
   "source": [
    "data.head()\n"
   ]
  },
  {
   "cell_type": "code",
   "execution_count": 11,
   "metadata": {},
   "outputs": [
    {
     "data": {
      "text/plain": [
       "684"
      ]
     },
     "execution_count": 11,
     "metadata": {},
     "output_type": "execute_result"
    }
   ],
   "source": [
    "len(data['SCIENTIFIC NAME'].unique())"
   ]
  },
  {
   "cell_type": "code",
   "execution_count": 12,
   "metadata": {},
   "outputs": [],
   "source": [
    "#Reading training data & Finding  p(L) => Number of complete checklist in a state /total number of complete checklists"
   ]
  },
  {
   "cell_type": "code",
   "execution_count": 6,
   "metadata": {},
   "outputs": [
    {
     "data": {
      "text/html": [
       "<div>\n",
       "<style scoped>\n",
       "    .dataframe tbody tr th:only-of-type {\n",
       "        vertical-align: middle;\n",
       "    }\n",
       "\n",
       "    .dataframe tbody tr th {\n",
       "        vertical-align: top;\n",
       "    }\n",
       "\n",
       "    .dataframe thead th {\n",
       "        text-align: right;\n",
       "    }\n",
       "</style>\n",
       "<table border=\"1\" class=\"dataframe\">\n",
       "  <thead>\n",
       "    <tr style=\"text-align: right;\">\n",
       "      <th></th>\n",
       "      <th>Unnamed: 0</th>\n",
       "      <th>hotspot</th>\n",
       "      <th>r</th>\n",
       "      <th>g</th>\n",
       "      <th>b</th>\n",
       "      <th>nir</th>\n",
       "      <th>meta</th>\n",
       "      <th>rgb</th>\n",
       "      <th>species</th>\n",
       "      <th>env</th>\n",
       "      <th>ped</th>\n",
       "      <th>bioclim</th>\n",
       "      <th>hotspot_id</th>\n",
       "      <th>june_complete_checklists</th>\n",
       "      <th>state_id</th>\n",
       "      <th>num_complete_checklists</th>\n",
       "      <th>pL</th>\n",
       "    </tr>\n",
       "  </thead>\n",
       "  <tbody>\n",
       "    <tr>\n",
       "      <th>0</th>\n",
       "      <td>0</td>\n",
       "      <td>L678935</td>\n",
       "      <td>/network/scratch/t/tengmeli/scratch/ecosystem-...</td>\n",
       "      <td>/network/scratch/t/tengmeli/scratch/ecosystem-...</td>\n",
       "      <td>/network/scratch/t/tengmeli/scratch/ecosystem-...</td>\n",
       "      <td>/network/scratch/t/tengmeli/scratch/ecosystem-...</td>\n",
       "      <td>/network/scratch/t/tengmeli/scratch/ecosystem-...</td>\n",
       "      <td>/network/scratch/t/tengmeli/scratch/ecosystem-...</td>\n",
       "      <td>/network/scratch/t/tengmeli/scratch/ecosystem-...</td>\n",
       "      <td>/network/scratch/t/tengmeli/scratch/ecosystem-...</td>\n",
       "      <td>/network/scratch/t/tengmeli/scratch/ecosystem-...</td>\n",
       "      <td>/network/scratch/t/tengmeli/scratch/ecosystem-...</td>\n",
       "      <td>L678935</td>\n",
       "      <td>15</td>\n",
       "      <td>12</td>\n",
       "      <td>432</td>\n",
       "      <td>0.006107</td>\n",
       "    </tr>\n",
       "    <tr>\n",
       "      <th>1</th>\n",
       "      <td>1</td>\n",
       "      <td>L1160919</td>\n",
       "      <td>/network/scratch/t/tengmeli/scratch/ecosystem-...</td>\n",
       "      <td>/network/scratch/t/tengmeli/scratch/ecosystem-...</td>\n",
       "      <td>/network/scratch/t/tengmeli/scratch/ecosystem-...</td>\n",
       "      <td>/network/scratch/t/tengmeli/scratch/ecosystem-...</td>\n",
       "      <td>/network/scratch/t/tengmeli/scratch/ecosystem-...</td>\n",
       "      <td>/network/scratch/t/tengmeli/scratch/ecosystem-...</td>\n",
       "      <td>/network/scratch/t/tengmeli/scratch/ecosystem-...</td>\n",
       "      <td>/network/scratch/t/tengmeli/scratch/ecosystem-...</td>\n",
       "      <td>/network/scratch/t/tengmeli/scratch/ecosystem-...</td>\n",
       "      <td>/network/scratch/t/tengmeli/scratch/ecosystem-...</td>\n",
       "      <td>L1160919</td>\n",
       "      <td>14</td>\n",
       "      <td>26</td>\n",
       "      <td>76</td>\n",
       "      <td>0.021957</td>\n",
       "    </tr>\n",
       "    <tr>\n",
       "      <th>2</th>\n",
       "      <td>2</td>\n",
       "      <td>L893164</td>\n",
       "      <td>/network/scratch/t/tengmeli/scratch/ecosystem-...</td>\n",
       "      <td>/network/scratch/t/tengmeli/scratch/ecosystem-...</td>\n",
       "      <td>/network/scratch/t/tengmeli/scratch/ecosystem-...</td>\n",
       "      <td>/network/scratch/t/tengmeli/scratch/ecosystem-...</td>\n",
       "      <td>/network/scratch/t/tengmeli/scratch/ecosystem-...</td>\n",
       "      <td>/network/scratch/t/tengmeli/scratch/ecosystem-...</td>\n",
       "      <td>/network/scratch/t/tengmeli/scratch/ecosystem-...</td>\n",
       "      <td>/network/scratch/t/tengmeli/scratch/ecosystem-...</td>\n",
       "      <td>/network/scratch/t/tengmeli/scratch/ecosystem-...</td>\n",
       "      <td>/network/scratch/t/tengmeli/scratch/ecosystem-...</td>\n",
       "      <td>L893164</td>\n",
       "      <td>8</td>\n",
       "      <td>4</td>\n",
       "      <td>107</td>\n",
       "      <td>0.109308</td>\n",
       "    </tr>\n",
       "    <tr>\n",
       "      <th>3</th>\n",
       "      <td>3</td>\n",
       "      <td>L210257</td>\n",
       "      <td>/network/scratch/t/tengmeli/scratch/ecosystem-...</td>\n",
       "      <td>/network/scratch/t/tengmeli/scratch/ecosystem-...</td>\n",
       "      <td>/network/scratch/t/tengmeli/scratch/ecosystem-...</td>\n",
       "      <td>/network/scratch/t/tengmeli/scratch/ecosystem-...</td>\n",
       "      <td>/network/scratch/t/tengmeli/scratch/ecosystem-...</td>\n",
       "      <td>/network/scratch/t/tengmeli/scratch/ecosystem-...</td>\n",
       "      <td>/network/scratch/t/tengmeli/scratch/ecosystem-...</td>\n",
       "      <td>/network/scratch/t/tengmeli/scratch/ecosystem-...</td>\n",
       "      <td>/network/scratch/t/tengmeli/scratch/ecosystem-...</td>\n",
       "      <td>/network/scratch/t/tengmeli/scratch/ecosystem-...</td>\n",
       "      <td>L210257</td>\n",
       "      <td>74</td>\n",
       "      <td>5</td>\n",
       "      <td>880</td>\n",
       "      <td>0.038515</td>\n",
       "    </tr>\n",
       "    <tr>\n",
       "      <th>4</th>\n",
       "      <td>4</td>\n",
       "      <td>L6223517</td>\n",
       "      <td>/network/scratch/t/tengmeli/scratch/ecosystem-...</td>\n",
       "      <td>/network/scratch/t/tengmeli/scratch/ecosystem-...</td>\n",
       "      <td>/network/scratch/t/tengmeli/scratch/ecosystem-...</td>\n",
       "      <td>/network/scratch/t/tengmeli/scratch/ecosystem-...</td>\n",
       "      <td>/network/scratch/t/tengmeli/scratch/ecosystem-...</td>\n",
       "      <td>/network/scratch/t/tengmeli/scratch/ecosystem-...</td>\n",
       "      <td>/network/scratch/t/tengmeli/scratch/ecosystem-...</td>\n",
       "      <td>/network/scratch/t/tengmeli/scratch/ecosystem-...</td>\n",
       "      <td>/network/scratch/t/tengmeli/scratch/ecosystem-...</td>\n",
       "      <td>/network/scratch/t/tengmeli/scratch/ecosystem-...</td>\n",
       "      <td>L6223517</td>\n",
       "      <td>8</td>\n",
       "      <td>3</td>\n",
       "      <td>321</td>\n",
       "      <td>0.039159</td>\n",
       "    </tr>\n",
       "  </tbody>\n",
       "</table>\n",
       "</div>"
      ],
      "text/plain": [
       "   Unnamed: 0   hotspot                                                  r  \\\n",
       "0           0   L678935  /network/scratch/t/tengmeli/scratch/ecosystem-...   \n",
       "1           1  L1160919  /network/scratch/t/tengmeli/scratch/ecosystem-...   \n",
       "2           2   L893164  /network/scratch/t/tengmeli/scratch/ecosystem-...   \n",
       "3           3   L210257  /network/scratch/t/tengmeli/scratch/ecosystem-...   \n",
       "4           4  L6223517  /network/scratch/t/tengmeli/scratch/ecosystem-...   \n",
       "\n",
       "                                                   g  \\\n",
       "0  /network/scratch/t/tengmeli/scratch/ecosystem-...   \n",
       "1  /network/scratch/t/tengmeli/scratch/ecosystem-...   \n",
       "2  /network/scratch/t/tengmeli/scratch/ecosystem-...   \n",
       "3  /network/scratch/t/tengmeli/scratch/ecosystem-...   \n",
       "4  /network/scratch/t/tengmeli/scratch/ecosystem-...   \n",
       "\n",
       "                                                   b  \\\n",
       "0  /network/scratch/t/tengmeli/scratch/ecosystem-...   \n",
       "1  /network/scratch/t/tengmeli/scratch/ecosystem-...   \n",
       "2  /network/scratch/t/tengmeli/scratch/ecosystem-...   \n",
       "3  /network/scratch/t/tengmeli/scratch/ecosystem-...   \n",
       "4  /network/scratch/t/tengmeli/scratch/ecosystem-...   \n",
       "\n",
       "                                                 nir  \\\n",
       "0  /network/scratch/t/tengmeli/scratch/ecosystem-...   \n",
       "1  /network/scratch/t/tengmeli/scratch/ecosystem-...   \n",
       "2  /network/scratch/t/tengmeli/scratch/ecosystem-...   \n",
       "3  /network/scratch/t/tengmeli/scratch/ecosystem-...   \n",
       "4  /network/scratch/t/tengmeli/scratch/ecosystem-...   \n",
       "\n",
       "                                                meta  \\\n",
       "0  /network/scratch/t/tengmeli/scratch/ecosystem-...   \n",
       "1  /network/scratch/t/tengmeli/scratch/ecosystem-...   \n",
       "2  /network/scratch/t/tengmeli/scratch/ecosystem-...   \n",
       "3  /network/scratch/t/tengmeli/scratch/ecosystem-...   \n",
       "4  /network/scratch/t/tengmeli/scratch/ecosystem-...   \n",
       "\n",
       "                                                 rgb  \\\n",
       "0  /network/scratch/t/tengmeli/scratch/ecosystem-...   \n",
       "1  /network/scratch/t/tengmeli/scratch/ecosystem-...   \n",
       "2  /network/scratch/t/tengmeli/scratch/ecosystem-...   \n",
       "3  /network/scratch/t/tengmeli/scratch/ecosystem-...   \n",
       "4  /network/scratch/t/tengmeli/scratch/ecosystem-...   \n",
       "\n",
       "                                             species  \\\n",
       "0  /network/scratch/t/tengmeli/scratch/ecosystem-...   \n",
       "1  /network/scratch/t/tengmeli/scratch/ecosystem-...   \n",
       "2  /network/scratch/t/tengmeli/scratch/ecosystem-...   \n",
       "3  /network/scratch/t/tengmeli/scratch/ecosystem-...   \n",
       "4  /network/scratch/t/tengmeli/scratch/ecosystem-...   \n",
       "\n",
       "                                                 env  \\\n",
       "0  /network/scratch/t/tengmeli/scratch/ecosystem-...   \n",
       "1  /network/scratch/t/tengmeli/scratch/ecosystem-...   \n",
       "2  /network/scratch/t/tengmeli/scratch/ecosystem-...   \n",
       "3  /network/scratch/t/tengmeli/scratch/ecosystem-...   \n",
       "4  /network/scratch/t/tengmeli/scratch/ecosystem-...   \n",
       "\n",
       "                                                 ped  \\\n",
       "0  /network/scratch/t/tengmeli/scratch/ecosystem-...   \n",
       "1  /network/scratch/t/tengmeli/scratch/ecosystem-...   \n",
       "2  /network/scratch/t/tengmeli/scratch/ecosystem-...   \n",
       "3  /network/scratch/t/tengmeli/scratch/ecosystem-...   \n",
       "4  /network/scratch/t/tengmeli/scratch/ecosystem-...   \n",
       "\n",
       "                                             bioclim hotspot_id  \\\n",
       "0  /network/scratch/t/tengmeli/scratch/ecosystem-...    L678935   \n",
       "1  /network/scratch/t/tengmeli/scratch/ecosystem-...   L1160919   \n",
       "2  /network/scratch/t/tengmeli/scratch/ecosystem-...    L893164   \n",
       "3  /network/scratch/t/tengmeli/scratch/ecosystem-...    L210257   \n",
       "4  /network/scratch/t/tengmeli/scratch/ecosystem-...   L6223517   \n",
       "\n",
       "   june_complete_checklists  state_id  num_complete_checklists        pL  \n",
       "0                        15        12                      432  0.006107  \n",
       "1                        14        26                       76  0.021957  \n",
       "2                         8         4                      107  0.109308  \n",
       "3                        74         5                      880  0.038515  \n",
       "4                         8         3                      321  0.039159  "
      ]
     },
     "execution_count": 6,
     "metadata": {},
     "output_type": "execute_result"
    }
   ],
   "source": [
    "d=pd.read_csv('/network/scratch/t/tengmeli/scratch/ecosystem-embedding/training/train_clustered_vf.csv')\n",
    "#finding p(L)\n",
    "by_state=d.groupby(['state_id'])['num_complete_checklists'].sum()\n",
    "pL=by_state/d['num_complete_checklists'].sum()\n",
    "d['pL']=d['state_id'].map(pL)\n",
    "d.head()"
   ]
  },
  {
   "cell_type": "code",
   "execution_count": 14,
   "metadata": {},
   "outputs": [],
   "source": [
    "#check values of pL \n",
    "#pL"
   ]
  },
  {
   "cell_type": "code",
   "execution_count": 15,
   "metadata": {},
   "outputs": [],
   "source": [
    "#Mapping each state to its corresponding list of locations{'state_id':[hotspot1, hotspot2,...]}"
   ]
  },
  {
   "cell_type": "code",
   "execution_count": 8,
   "metadata": {},
   "outputs": [],
   "source": [
    "\n",
    "state_to_locations=d.groupby('state_id').agg({'hotspot':list})\n",
    "state_to_locations=dict(state_to_locations['hotspot'])\n",
    "#state_to_locations[1]"
   ]
  },
  {
   "cell_type": "code",
   "execution_count": 17,
   "metadata": {},
   "outputs": [],
   "source": [
    "#Finding Lookup Table speciesToState dictionary of dictionary =>how many checklists of that species in that state=> {species:{state:Num_checklists}}"
   ]
  },
  {
   "cell_type": "code",
   "execution_count": null,
   "metadata": {},
   "outputs": [],
   "source": [
    "#Run Only Once \n",
    "#state_to_species mapping\n",
    "species_to_state=defaultdict(lambda : defaultdict(lambda : 0))\n",
    "for state,locations in state_to_locations.items():\n",
    "    #print(locations)\n",
    "    for location in locations:\n",
    "        #print(location)\n",
    "        path=os.path.join('/network/scratch/t/tengmeli/scratch/ecosystem-embedding/ebird_data',location + '_complete_checklists.pkl')\n",
    "        with open(path, 'rb') as f:\n",
    "               l_to_s = pickle.load(f)\n",
    "        \n",
    "        if  l_to_s.empty :\n",
    "            print(f'cannot find file at {path}')\n",
    "            continue\n",
    "        #filter month of June for each location\n",
    "        l_to_s=l_to_s[l_to_s['MONTH']=='June']\n",
    "        #Preprocess N/A values by filling zeros=>some species have 0 occurance \n",
    "        l_to_s['SPECIES_COMPLETE_CHECKLISTS']=l_to_s['SPECIES_COMPLETE_CHECKLISTS'].fillna(0)\n",
    "        assert len(l_to_s)==684 , 'length of filterd june is not as expected'\n",
    "        assert not (l_to_s['SPECIES_COMPLETE_CHECKLISTS'].isnull().any() ), 'some null valus is present'\n",
    "        for species in l_to_s['SCIENTIFIC NAME']:\n",
    "            #print(species)\n",
    "            #print(l_to_s[l_to_s['SCIENTIFIC NAME']==species]['SPECIES_COMPLETE_CHECKLISTS'])\n",
    "            #break\n",
    "            species_to_state[species][state]+=(l_to_s[l_to_s['SCIENTIFIC NAME']==species]['SPECIES_COMPLETE_CHECKLISTS'].to_numpy().item())\n",
    "            \n",
    "      \n",
    "\n",
    "        "
   ]
  },
  {
   "cell_type": "code",
   "execution_count": null,
   "metadata": {},
   "outputs": [],
   "source": [
    "#some checks\n",
    "species_to_state['Acanthis hornemanni']\n",
    "l_to_s[l_to_s['SCIENTIFIC NAME']=='Acanthis flammea']['SPECIES_COMPLETE_CHECKLISTS'].to_numpy().item()"
   ]
  },
  {
   "cell_type": "code",
   "execution_count": null,
   "metadata": {},
   "outputs": [],
   "source": [
    "#Sanity checks\n",
    "lookup_df=pd.DataFrame(species_to_state)\n",
    "lookup_df.isnull().any()\n",
    "lookup_df.head()"
   ]
  },
  {
   "cell_type": "code",
   "execution_count": null,
   "metadata": {},
   "outputs": [],
   "source": [
    "#saving the lookup table \n",
    "\n",
    "with open('/network/scratch/t/tengmeli/scratch/ecosystem-embedding/training/species_to_states.pkl', 'wb') as f:\n",
    "    pickle.dump(lookup_df, f)"
   ]
  },
  {
   "cell_type": "code",
   "execution_count": null,
   "metadata": {},
   "outputs": [],
   "source": [
    "#Sanity checks=>sum species have 0 total occurance !\n",
    "#sum(lookup_df['Vireo vicinior'])"
   ]
  },
  {
   "cell_type": "code",
   "execution_count": null,
   "metadata": {},
   "outputs": [],
   "source": [
    "#Reading "
   ]
  },
  {
   "cell_type": "code",
   "execution_count": null,
   "metadata": {},
   "outputs": [],
   "source": [
    "with open('/network/scratch/t/tengmeli/scratch/ecosystem-embedding/training/species_to_states.pkl', 'rb') as f:\n",
    "    lookup_df= pickle.load(f)\n",
    "#a bar plot=>takes too long to display\n",
    "#lookup_df.plot.bar()\n"
   ]
  },
  {
   "cell_type": "code",
   "execution_count": null,
   "metadata": {},
   "outputs": [],
   "source": [
    "#Calcultate probalities (p(L|y)) => num_checklists_reporting species y in state L /num of checklists reporting species y in all states \n",
    "\n",
    "lookup_df=lookup_df.apply(lambda x : x /sum(x))\n",
    "lookup_df=lookup_df.fillna(0)\n",
    "lookup_df['pL']=pL\n",
    "lookup_df.head()"
   ]
  },
  {
   "cell_type": "code",
   "execution_count": null,
   "metadata": {},
   "outputs": [],
   "source": [
    "#Saving \n",
    "with open('/network/scratch/t/tengmeli/scratch/ecosystem-embedding/training/species_to_states_probs.pkl', 'wb') as f:\n",
    "    pickle.dump(lookup_df, f)"
   ]
  },
  {
   "cell_type": "code",
   "execution_count": null,
   "metadata": {},
   "outputs": [],
   "source": [
    "#Correction factor => p(L|y)/p(L) "
   ]
  },
  {
   "cell_type": "code",
   "execution_count": null,
   "metadata": {},
   "outputs": [],
   "source": [
    "correction_factor=lookup_df.copy()\n",
    "correction_factor.loc[:, correction_factor.columns!='pL']=correction_factor.loc[:, correction_factor.columns!='pL'].apply(lambda x : x/correction_factor['pL'])"
   ]
  },
  {
   "cell_type": "code",
   "execution_count": null,
   "metadata": {},
   "outputs": [],
   "source": [
    "#check how it looks\n",
    "correction_factor"
   ]
  },
  {
   "cell_type": "code",
   "execution_count": null,
   "metadata": {},
   "outputs": [],
   "source": [
    "#some statistics \n",
    "correction_factor.describe()"
   ]
  },
  {
   "cell_type": "code",
   "execution_count": null,
   "metadata": {},
   "outputs": [],
   "source": [
    "correction_factor.max().max()"
   ]
  },
  {
   "cell_type": "code",
   "execution_count": null,
   "metadata": {},
   "outputs": [],
   "source": [
    "correction_factor.min().min()"
   ]
  },
  {
   "cell_type": "code",
   "execution_count": null,
   "metadata": {},
   "outputs": [],
   "source": [
    "correction_factor.mean().mean()"
   ]
  },
  {
   "cell_type": "code",
   "execution_count": null,
   "metadata": {},
   "outputs": [],
   "source": [
    "#saving correction factor"
   ]
  },
  {
   "cell_type": "markdown",
   "metadata": {},
   "source": [
    "\n",
    "with open('/network/scratch/t/tengmeli/scratch/ecosystem-embedding/training/correction_factor.pkl', 'wb') as f:\n",
    "    pickle.dump(correction_factor, f)"
   ]
  },
  {
   "cell_type": "markdown",
   "metadata": {},
   "source": [
    "# plotting range maps "
   ]
  },
  {
   "cell_type": "code",
   "execution_count": null,
   "metadata": {},
   "outputs": [],
   "source": [
    "import numpy as np\n",
    "import pickle\n",
    "import pandas as pd\n",
    "import os\n",
    "from collections import defaultdict"
   ]
  },
  {
   "cell_type": "code",
   "execution_count": 3,
   "metadata": {},
   "outputs": [],
   "source": [
    "with open('/network/scratch/t/tengmeli/scratch/ecosystem-embedding/training/correction_factor.pkl', 'rb') as f:\n",
    "    factor=pickle.load( f)"
   ]
  },
  {
   "cell_type": "code",
   "execution_count": 13,
   "metadata": {},
   "outputs": [],
   "source": [
    "\n",
    "\n",
    "#species=factor.columns\n",
    "#ToDo make sure it is non song birds\n",
    "nonsong=np.load('/network/projects/_groups/ecosystem-embeddings/species_splits/not_songbirds_idx.npy')"
   ]
  },
  {
   "cell_type": "code",
   "execution_count": 15,
   "metadata": {},
   "outputs": [
    {
     "data": {
      "text/plain": [
       "Index(['Accipiter cooperii', 'Accipiter gentilis', 'Accipiter striatus',\n",
       "       'Actitis macularius', 'Aechmophorus clarkii',\n",
       "       'Aechmophorus occidentalis', 'Aegolius acadicus', 'Aegolius funereus',\n",
       "       'Aeronautes saxatalis', 'Aethia cristatella',\n",
       "       ...\n",
       "       'Tringa solitaria', 'Trogon elegans', 'Tympanuchus cupido',\n",
       "       'Tympanuchus phasianellus', 'Tyto alba', 'Uria aalge', 'Uria lomvia',\n",
       "       'Xema sabini', 'Zenaida asiatica', 'Zenaida macroura'],\n",
       "      dtype='object', length=379)"
      ]
     },
     "execution_count": 15,
     "metadata": {},
     "output_type": "execute_result"
    }
   ],
   "source": [
    "species[nonsong]"
   ]
  },
  {
   "cell_type": "code",
   "execution_count": 51,
   "metadata": {},
   "outputs": [
    {
     "data": {
      "text/plain": [
       "Tringa solitaria      0.000000\n",
       "Accipiter cooperii    0.680117\n",
       "Zenaida asiatica      0.630401\n",
       "Name: 1, dtype: float64"
      ]
     },
     "execution_count": 51,
     "metadata": {},
     "output_type": "execute_result"
    }
   ],
   "source": [
    "subset = factor[['Tringa solitaria','Accipiter cooperii','Zenaida asiatica']]\n",
    "subset.loc[1,:]"
   ]
  },
  {
   "cell_type": "code",
   "execution_count": null,
   "metadata": {},
   "outputs": [],
   "source": [
    "#state_to_locations \n",
    "#d"
   ]
  },
  {
   "cell_type": "code",
   "execution_count": 24,
   "metadata": {},
   "outputs": [],
   "source": [
    " #Reading Training data from the existing splits csvs (images & target)\n",
    "    train=pd.read_csv(\"/network/scratch/t/tengmeli/scratch/ecosystem-embedding/training/train_clustered_vf.csv\")\n",
    "    val=pd.read_csv(\"/network/scratch/t/tengmeli/scratch/ecosystem-embedding/training/valid_clustered_vf.csv\")\n",
    "    test=pd.read_csv(\"/network/scratch/t/tengmeli/scratch/ecosystem-embedding/training/test_june_vf.csv\")\n"
   ]
  },
  {
   "cell_type": "code",
   "execution_count": 41,
   "metadata": {},
   "outputs": [
    {
     "data": {
      "text/html": [
       "<div>\n",
       "<style scoped>\n",
       "    .dataframe tbody tr th:only-of-type {\n",
       "        vertical-align: middle;\n",
       "    }\n",
       "\n",
       "    .dataframe tbody tr th {\n",
       "        vertical-align: top;\n",
       "    }\n",
       "\n",
       "    .dataframe thead th {\n",
       "        text-align: right;\n",
       "    }\n",
       "</style>\n",
       "<table border=\"1\" class=\"dataframe\">\n",
       "  <thead>\n",
       "    <tr style=\"text-align: right;\">\n",
       "      <th></th>\n",
       "      <th>hotspot_id</th>\n",
       "      <th>lon</th>\n",
       "      <th>lat</th>\n",
       "      <th>county</th>\n",
       "      <th>county_code</th>\n",
       "      <th>state</th>\n",
       "      <th>state_code</th>\n",
       "      <th>june_complete_checklists</th>\n",
       "      <th>num_checklists</th>\n",
       "      <th>num_complete_checklists</th>\n",
       "      <th>num_different_species</th>\n",
       "      <th>state_id</th>\n",
       "    </tr>\n",
       "  </thead>\n",
       "  <tbody>\n",
       "    <tr>\n",
       "      <th>0</th>\n",
       "      <td>L8838283</td>\n",
       "      <td>-84.385593</td>\n",
       "      <td>33.994190</td>\n",
       "      <td>Fulton</td>\n",
       "      <td>US-GA-121</td>\n",
       "      <td>Georgia</td>\n",
       "      <td>US-GA</td>\n",
       "      <td>6</td>\n",
       "      <td>69</td>\n",
       "      <td>61</td>\n",
       "      <td>85</td>\n",
       "      <td>10</td>\n",
       "    </tr>\n",
       "    <tr>\n",
       "      <th>1</th>\n",
       "      <td>L2626716</td>\n",
       "      <td>-122.840409</td>\n",
       "      <td>45.735062</td>\n",
       "      <td>Columbia</td>\n",
       "      <td>US-OR-009</td>\n",
       "      <td>Oregon</td>\n",
       "      <td>US-OR</td>\n",
       "      <td>5</td>\n",
       "      <td>116</td>\n",
       "      <td>106</td>\n",
       "      <td>126</td>\n",
       "      <td>36</td>\n",
       "    </tr>\n",
       "    <tr>\n",
       "      <th>2</th>\n",
       "      <td>L575194</td>\n",
       "      <td>-72.524126</td>\n",
       "      <td>42.590658</td>\n",
       "      <td>Franklin</td>\n",
       "      <td>US-MA-011</td>\n",
       "      <td>Massachusetts</td>\n",
       "      <td>US-MA</td>\n",
       "      <td>40</td>\n",
       "      <td>322</td>\n",
       "      <td>285</td>\n",
       "      <td>131</td>\n",
       "      <td>18</td>\n",
       "    </tr>\n",
       "    <tr>\n",
       "      <th>3</th>\n",
       "      <td>L2141998</td>\n",
       "      <td>-70.732427</td>\n",
       "      <td>42.160000</td>\n",
       "      <td>Plymouth</td>\n",
       "      <td>US-MA-023</td>\n",
       "      <td>Massachusetts</td>\n",
       "      <td>US-MA</td>\n",
       "      <td>18</td>\n",
       "      <td>350</td>\n",
       "      <td>341</td>\n",
       "      <td>103</td>\n",
       "      <td>18</td>\n",
       "    </tr>\n",
       "    <tr>\n",
       "      <th>4</th>\n",
       "      <td>L505437</td>\n",
       "      <td>-75.881517</td>\n",
       "      <td>42.178178</td>\n",
       "      <td>Broome</td>\n",
       "      <td>US-NY-007</td>\n",
       "      <td>New York</td>\n",
       "      <td>US-NY</td>\n",
       "      <td>83</td>\n",
       "      <td>2825</td>\n",
       "      <td>2605</td>\n",
       "      <td>178</td>\n",
       "      <td>33</td>\n",
       "    </tr>\n",
       "    <tr>\n",
       "      <th>...</th>\n",
       "      <td>...</td>\n",
       "      <td>...</td>\n",
       "      <td>...</td>\n",
       "      <td>...</td>\n",
       "      <td>...</td>\n",
       "      <td>...</td>\n",
       "      <td>...</td>\n",
       "      <td>...</td>\n",
       "      <td>...</td>\n",
       "      <td>...</td>\n",
       "      <td>...</td>\n",
       "      <td>...</td>\n",
       "    </tr>\n",
       "    <tr>\n",
       "      <th>5919</th>\n",
       "      <td>L983791</td>\n",
       "      <td>-123.110115</td>\n",
       "      <td>44.064871</td>\n",
       "      <td>Lane</td>\n",
       "      <td>US-OR-039</td>\n",
       "      <td>Oregon</td>\n",
       "      <td>US-OR</td>\n",
       "      <td>25</td>\n",
       "      <td>336</td>\n",
       "      <td>286</td>\n",
       "      <td>120</td>\n",
       "      <td>36</td>\n",
       "    </tr>\n",
       "    <tr>\n",
       "      <th>5920</th>\n",
       "      <td>L2146581</td>\n",
       "      <td>-123.084710</td>\n",
       "      <td>39.002042</td>\n",
       "      <td>Mendocino</td>\n",
       "      <td>US-CA-045</td>\n",
       "      <td>California</td>\n",
       "      <td>US-CA</td>\n",
       "      <td>141</td>\n",
       "      <td>3013</td>\n",
       "      <td>2327</td>\n",
       "      <td>218</td>\n",
       "      <td>4</td>\n",
       "    </tr>\n",
       "    <tr>\n",
       "      <th>5921</th>\n",
       "      <td>L283109</td>\n",
       "      <td>-90.417566</td>\n",
       "      <td>38.893171</td>\n",
       "      <td>St. Charles</td>\n",
       "      <td>US-MO-183</td>\n",
       "      <td>Missouri</td>\n",
       "      <td>US-MO</td>\n",
       "      <td>41</td>\n",
       "      <td>421</td>\n",
       "      <td>366</td>\n",
       "      <td>233</td>\n",
       "      <td>23</td>\n",
       "    </tr>\n",
       "    <tr>\n",
       "      <th>5922</th>\n",
       "      <td>L513743</td>\n",
       "      <td>-75.411090</td>\n",
       "      <td>39.812253</td>\n",
       "      <td>Delaware</td>\n",
       "      <td>US-PA-045</td>\n",
       "      <td>Pennsylvania</td>\n",
       "      <td>US-PA</td>\n",
       "      <td>10</td>\n",
       "      <td>342</td>\n",
       "      <td>318</td>\n",
       "      <td>138</td>\n",
       "      <td>37</td>\n",
       "    </tr>\n",
       "    <tr>\n",
       "      <th>5923</th>\n",
       "      <td>L522347</td>\n",
       "      <td>-121.765240</td>\n",
       "      <td>36.572932</td>\n",
       "      <td>Monterey</td>\n",
       "      <td>US-CA-053</td>\n",
       "      <td>California</td>\n",
       "      <td>US-CA</td>\n",
       "      <td>10</td>\n",
       "      <td>251</td>\n",
       "      <td>193</td>\n",
       "      <td>150</td>\n",
       "      <td>4</td>\n",
       "    </tr>\n",
       "  </tbody>\n",
       "</table>\n",
       "<p>5924 rows × 12 columns</p>\n",
       "</div>"
      ],
      "text/plain": [
       "     hotspot_id         lon        lat       county county_code  \\\n",
       "0      L8838283  -84.385593  33.994190       Fulton   US-GA-121   \n",
       "1      L2626716 -122.840409  45.735062     Columbia   US-OR-009   \n",
       "2       L575194  -72.524126  42.590658     Franklin   US-MA-011   \n",
       "3      L2141998  -70.732427  42.160000     Plymouth   US-MA-023   \n",
       "4       L505437  -75.881517  42.178178       Broome   US-NY-007   \n",
       "...         ...         ...        ...          ...         ...   \n",
       "5919    L983791 -123.110115  44.064871         Lane   US-OR-039   \n",
       "5920   L2146581 -123.084710  39.002042    Mendocino   US-CA-045   \n",
       "5921    L283109  -90.417566  38.893171  St. Charles   US-MO-183   \n",
       "5922    L513743  -75.411090  39.812253     Delaware   US-PA-045   \n",
       "5923    L522347 -121.765240  36.572932     Monterey   US-CA-053   \n",
       "\n",
       "              state state_code  june_complete_checklists  num_checklists  \\\n",
       "0           Georgia      US-GA                         6              69   \n",
       "1            Oregon      US-OR                         5             116   \n",
       "2     Massachusetts      US-MA                        40             322   \n",
       "3     Massachusetts      US-MA                        18             350   \n",
       "4          New York      US-NY                        83            2825   \n",
       "...             ...        ...                       ...             ...   \n",
       "5919         Oregon      US-OR                        25             336   \n",
       "5920     California      US-CA                       141            3013   \n",
       "5921       Missouri      US-MO                        41             421   \n",
       "5922   Pennsylvania      US-PA                        10             342   \n",
       "5923     California      US-CA                        10             251   \n",
       "\n",
       "      num_complete_checklists  num_different_species  state_id  \n",
       "0                          61                     85        10  \n",
       "1                         106                    126        36  \n",
       "2                         285                    131        18  \n",
       "3                         341                    103        18  \n",
       "4                        2605                    178        33  \n",
       "...                       ...                    ...       ...  \n",
       "5919                      286                    120        36  \n",
       "5920                     2327                    218         4  \n",
       "5921                      366                    233        23  \n",
       "5922                      318                    138        37  \n",
       "5923                      193                    150         4  \n",
       "\n",
       "[5924 rows x 12 columns]"
      ]
     },
     "execution_count": 41,
     "metadata": {},
     "output_type": "execute_result"
    }
   ],
   "source": [
    "locs=pd.read_csv('/network/projects/_groups/ecosystem-embeddings/hotspot_split_june/hotspots_june_filtered.csv')\n",
    "locs= locs.loc[:, ~locs.columns.str.contains('^Unnamed')]\n",
    "# locs=locs[locs['hotspot_id'].isin(data['hotspot'].values)].reset_index(drop=True) #filter only by present hotspots\n",
    "#filter locs in train:\n",
    "locs=locs[locs['hotspot_id'].isin(train['hotspot'].values)].reset_index(drop=True)\n",
    "locs"
   ]
  },
  {
   "cell_type": "code",
   "execution_count": 52,
   "metadata": {},
   "outputs": [],
   "source": [
    "locs=locs.loc[:,['lat','lon','state_id']]\n",
    "#state_to_latslongs=dict(tuple(locs.groupby(['state_id'])[['lat','lon']]))\n"
   ]
  },
  {
   "cell_type": "code",
   "execution_count": 53,
   "metadata": {},
   "outputs": [],
   "source": [
    "#Mapping states to lat longs\n",
    "state_to_latslongs=locs.groupby(['state_id']).agg({'lat':list,'lon':list})"
   ]
  },
  {
   "cell_type": "code",
   "execution_count": null,
   "metadata": {},
   "outputs": [],
   "source": [
    "#state_to_latslongs"
   ]
  },
  {
   "cell_type": "code",
   "execution_count": 58,
   "metadata": {},
   "outputs": [
    {
     "data": {
      "text/plain": [
       "0       10\n",
       "1       36\n",
       "2       18\n",
       "3       18\n",
       "4       33\n",
       "        ..\n",
       "5919    36\n",
       "5920     4\n",
       "5921    23\n",
       "5922    37\n",
       "5923     4\n",
       "Name: state_id, Length: 5924, dtype: int64"
      ]
     },
     "execution_count": 58,
     "metadata": {},
     "output_type": "execute_result"
    }
   ],
   "source": [
    "# ind=list(state_to_latslongs.keys())\n",
    "# state_to_latslongs=pd.DataFrame(state_to_latslongs,index=ind)\n",
    "#locs['state_id']"
   ]
  },
  {
   "cell_type": "code",
   "execution_count": 82,
   "metadata": {},
   "outputs": [
    {
     "data": {
      "image/png": "[encoded data removed]",
      "text/plain": [
       "<Figure size 936x936 with 1 Axes>"
      ]
     },
     "metadata": {
      "needs_background": "light"
     },
     "output_type": "display_data"
    }
   ],
   "source": [
    "#plotting\n",
    "import matplotlib.pyplot as  plt\n",
    "fig = plt.figure(figsize=[13, 13])\n",
    "    #colors=['lightseagreen','blue','orange']\n",
    "   # ax = setup_ax(fig)\n",
    "\n",
    "for state_id in state_to_latslongs.index:\n",
    "        plt.scatter(state_to_latslongs.loc[state_id, 'lon'], state_to_latslongs.loc[state_id, 'lat'], label=state_id, s=subset.loc[state_id,'Zenaida asiatica']*25)\n",
    "       \n",
    "        plt.legend()\n",
    "\n",
    "    #lgd = ax.legend()\n",
    "    #for handle in lgd.legendHandles:\n",
    "     #   handle.set_sizes([50.0])\n",
    "plt.xlabel('lons',fontsize=14)\n",
    "plt.ylabel('lats',fontsize=14)\n",
    "plt.title('correction_factor for Tringa solitaria')\n",
    "plt.show()"
   ]
  },
  {
   "cell_type": "code",
   "execution_count": 71,
   "metadata": {},
   "outputs": [],
   "source": [
    "#trying with lookup dataframe \n",
    "with open('/network/scratch/t/tengmeli/scratch/ecosystem-embedding/training/species_to_states.pkl', 'rb') as f:\n",
    "    lookup_df= pickle.load(f)"
   ]
  },
  {
   "cell_type": "code",
   "execution_count": 73,
   "metadata": {},
   "outputs": [],
   "source": [
    "lookup_df_subset=lookup_df[['Tringa solitaria','Accipiter cooperii','Zenaida asiatica']]"
   ]
  },
  {
   "cell_type": "code",
   "execution_count": 79,
   "metadata": {},
   "outputs": [],
   "source": [
    "#lookup_df_subset"
   ]
  },
  {
   "cell_type": "code",
   "execution_count": 80,
   "metadata": {},
   "outputs": [
    {
     "data": {
      "image/png": "[encoded data removed]",
      "text/plain": [
       "<Figure size 864x864 with 1 Axes>"
      ]
     },
     "metadata": {
      "needs_background": "light"
     },
     "output_type": "display_data"
    }
   ],
   "source": [
    "#plotting\n",
    "import matplotlib.pyplot as  plt\n",
    "fig = plt.figure(figsize=[12, 12])\n",
    "    #colors=['lightseagreen','blue','orange']\n",
    "   # ax = setup_ax(fig)\n",
    "\n",
    "for state_id in state_to_latslongs.index:\n",
    "        plt.scatter(state_to_latslongs.loc[state_id, 'lon'], state_to_latslongs.loc[state_id, 'lat'], label=state_id, s=lookup_df_subset.loc[state_id,'Zenaida asiatica']*0.1)\n",
    "       \n",
    "        plt.legend()\n",
    "\n",
    "    #lgd = ax.legend()\n",
    "    #for handle in lgd.legendHandles:\n",
    "     #   handle.set_sizes([50.0])\n",
    "plt.xlabel('lons',fontsize=14)\n",
    "plt.ylabel('lats',fontsize=14)\n",
    "plt.title('Range_maps for Zenaida asiatica')\n",
    "plt.show()"
   ]
  },
  {
   "cell_type": "code",
   "execution_count": null,
   "metadata": {},
   "outputs": [],
   "source": []
  }
 ],
 "metadata": {
  "kernelspec": {
   "display_name": "ebird-env",
   "language": "python",
   "name": "ebird-env"
  },
  "language_info": {
   "codemirror_mode": {
    "name": "ipython",
    "version": 3
   },
   "file_extension": ".py",
   "mimetype": "text/x-python",
   "name": "python",
   "nbconvert_exporter": "python",
   "pygments_lexer": "ipython3",
   "version": "3.6.13"
  }
 },
 "nbformat": 4,
 "nbformat_minor": 4
}
