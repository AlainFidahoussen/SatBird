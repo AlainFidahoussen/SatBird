{
 "cells": [
  {
   "cell_type": "code",
   "execution_count": 7,
   "metadata": {},
   "outputs": [],
   "source": [
    "import pickle\n",
    "import pandas as pd\n",
    "import os\n",
    "from collections import defaultdict"
   ]
  },
  {
   "cell_type": "code",
   "execution_count": 8,
   "metadata": {},
   "outputs": [],
   "source": [
    "#How complete checklists looks before & after Filtering Data for month of June \n"
   ]
  },
  {
   "cell_type": "code",
   "execution_count": 9,
   "metadata": {},
   "outputs": [
    {
     "data": {
      "text/plain": [
       "False"
      ]
     },
     "execution_count": 9,
     "metadata": {},
     "output_type": "execute_result"
    }
   ],
   "source": [
    "with open('/network/scratch/t/tengmeli/scratch/ecosystem-embedding/ebird_data/L10000991_complete_checklists.pkl', 'rb') as f:\n",
    "    data = pickle.load(f)\n",
    "data=data[data['MONTH']=='June']\n",
    "data['SPECIES_COMPLETE_CHECKLISTS'].isnull().any()"
   ]
  },
  {
   "cell_type": "code",
   "execution_count": 10,
   "metadata": {},
   "outputs": [
    {
     "data": {
      "text/html": [
       "<div>\n",
       "<style scoped>\n",
       "    .dataframe tbody tr th:only-of-type {\n",
       "        vertical-align: middle;\n",
       "    }\n",
       "\n",
       "    .dataframe tbody tr th {\n",
       "        vertical-align: top;\n",
       "    }\n",
       "\n",
       "    .dataframe thead th {\n",
       "        text-align: right;\n",
       "    }\n",
       "</style>\n",
       "<table border=\"1\" class=\"dataframe\">\n",
       "  <thead>\n",
       "    <tr style=\"text-align: right;\">\n",
       "      <th></th>\n",
       "      <th>Month_Num</th>\n",
       "      <th>MONTH</th>\n",
       "      <th>SCIENTIFIC NAME</th>\n",
       "      <th>SAMPLING EVENT IDENTIFIER</th>\n",
       "      <th>SPECIES_COMPLETE_CHECKLISTS</th>\n",
       "      <th>MONTHWISE_COMPLETE_CHECKLISTS</th>\n",
       "    </tr>\n",
       "  </thead>\n",
       "  <tbody>\n",
       "    <tr>\n",
       "      <th>3971</th>\n",
       "      <td>6</td>\n",
       "      <td>June</td>\n",
       "      <td>Acanthis flammea</td>\n",
       "      <td>NaN</td>\n",
       "      <td>0</td>\n",
       "      <td>2</td>\n",
       "    </tr>\n",
       "    <tr>\n",
       "      <th>3970</th>\n",
       "      <td>6</td>\n",
       "      <td>June</td>\n",
       "      <td>Acanthis hornemanni</td>\n",
       "      <td>NaN</td>\n",
       "      <td>0</td>\n",
       "      <td>2</td>\n",
       "    </tr>\n",
       "    <tr>\n",
       "      <th>3969</th>\n",
       "      <td>6</td>\n",
       "      <td>June</td>\n",
       "      <td>Accipiter cooperii</td>\n",
       "      <td>NaN</td>\n",
       "      <td>0</td>\n",
       "      <td>2</td>\n",
       "    </tr>\n",
       "    <tr>\n",
       "      <th>3968</th>\n",
       "      <td>6</td>\n",
       "      <td>June</td>\n",
       "      <td>Accipiter gentilis</td>\n",
       "      <td>NaN</td>\n",
       "      <td>0</td>\n",
       "      <td>2</td>\n",
       "    </tr>\n",
       "    <tr>\n",
       "      <th>3967</th>\n",
       "      <td>6</td>\n",
       "      <td>June</td>\n",
       "      <td>Accipiter striatus</td>\n",
       "      <td>NaN</td>\n",
       "      <td>0</td>\n",
       "      <td>2</td>\n",
       "    </tr>\n",
       "  </tbody>\n",
       "</table>\n",
       "</div>"
      ],
      "text/plain": [
       "     Month_Num MONTH      SCIENTIFIC NAME SAMPLING EVENT IDENTIFIER  \\\n",
       "3971         6  June     Acanthis flammea                       NaN   \n",
       "3970         6  June  Acanthis hornemanni                       NaN   \n",
       "3969         6  June   Accipiter cooperii                       NaN   \n",
       "3968         6  June   Accipiter gentilis                       NaN   \n",
       "3967         6  June   Accipiter striatus                       NaN   \n",
       "\n",
       "      SPECIES_COMPLETE_CHECKLISTS  MONTHWISE_COMPLETE_CHECKLISTS  \n",
       "3971                            0                              2  \n",
       "3970                            0                              2  \n",
       "3969                            0                              2  \n",
       "3968                            0                              2  \n",
       "3967                            0                              2  "
      ]
     },
     "execution_count": 10,
     "metadata": {},
     "output_type": "execute_result"
    }
   ],
   "source": [
    "data.head()\n"
   ]
  },
  {
   "cell_type": "code",
   "execution_count": 11,
   "metadata": {},
   "outputs": [
    {
     "data": {
      "text/plain": [
       "684"
      ]
     },
     "execution_count": 11,
     "metadata": {},
     "output_type": "execute_result"
    }
   ],
   "source": [
    "len(data['SCIENTIFIC NAME'].unique())"
   ]
  },
  {
   "cell_type": "code",
   "execution_count": 12,
   "metadata": {},
   "outputs": [],
   "source": [
    "#Reading training data & Finding  p(L) => Number of complete checklist in a state /total number of complete checklists"
   ]
  },
  {
   "cell_type": "code",
   "execution_count": 13,
   "metadata": {},
   "outputs": [
    {
     "data": {
      "text/html": [
       "<div>\n",
       "<style scoped>\n",
       "    .dataframe tbody tr th:only-of-type {\n",
       "        vertical-align: middle;\n",
       "    }\n",
       "\n",
       "    .dataframe tbody tr th {\n",
       "        vertical-align: top;\n",
       "    }\n",
       "\n",
       "    .dataframe thead th {\n",
       "        text-align: right;\n",
       "    }\n",
       "</style>\n",
       "<table border=\"1\" class=\"dataframe\">\n",
       "  <thead>\n",
       "    <tr style=\"text-align: right;\">\n",
       "      <th></th>\n",
       "      <th>Unnamed: 0</th>\n",
       "      <th>hotspot</th>\n",
       "      <th>r</th>\n",
       "      <th>g</th>\n",
       "      <th>b</th>\n",
       "      <th>nir</th>\n",
       "      <th>meta</th>\n",
       "      <th>rgb</th>\n",
       "      <th>species</th>\n",
       "      <th>env</th>\n",
       "      <th>ped</th>\n",
       "      <th>bioclim</th>\n",
       "      <th>hotspot_id</th>\n",
       "      <th>june_complete_checklists</th>\n",
       "      <th>state_id</th>\n",
       "      <th>num_complete_checklists</th>\n",
       "      <th>pL</th>\n",
       "    </tr>\n",
       "  </thead>\n",
       "  <tbody>\n",
       "    <tr>\n",
       "      <th>0</th>\n",
       "      <td>0</td>\n",
       "      <td>L678935</td>\n",
       "      <td>/network/scratch/t/tengmeli/scratch/ecosystem-...</td>\n",
       "      <td>/network/scratch/t/tengmeli/scratch/ecosystem-...</td>\n",
       "      <td>/network/scratch/t/tengmeli/scratch/ecosystem-...</td>\n",
       "      <td>/network/scratch/t/tengmeli/scratch/ecosystem-...</td>\n",
       "      <td>/network/scratch/t/tengmeli/scratch/ecosystem-...</td>\n",
       "      <td>/network/scratch/t/tengmeli/scratch/ecosystem-...</td>\n",
       "      <td>/network/scratch/t/tengmeli/scratch/ecosystem-...</td>\n",
       "      <td>/network/scratch/t/tengmeli/scratch/ecosystem-...</td>\n",
       "      <td>/network/scratch/t/tengmeli/scratch/ecosystem-...</td>\n",
       "      <td>/network/scratch/t/tengmeli/scratch/ecosystem-...</td>\n",
       "      <td>L678935</td>\n",
       "      <td>15</td>\n",
       "      <td>12</td>\n",
       "      <td>432</td>\n",
       "      <td>0.006107</td>\n",
       "    </tr>\n",
       "    <tr>\n",
       "      <th>1</th>\n",
       "      <td>1</td>\n",
       "      <td>L1160919</td>\n",
       "      <td>/network/scratch/t/tengmeli/scratch/ecosystem-...</td>\n",
       "      <td>/network/scratch/t/tengmeli/scratch/ecosystem-...</td>\n",
       "      <td>/network/scratch/t/tengmeli/scratch/ecosystem-...</td>\n",
       "      <td>/network/scratch/t/tengmeli/scratch/ecosystem-...</td>\n",
       "      <td>/network/scratch/t/tengmeli/scratch/ecosystem-...</td>\n",
       "      <td>/network/scratch/t/tengmeli/scratch/ecosystem-...</td>\n",
       "      <td>/network/scratch/t/tengmeli/scratch/ecosystem-...</td>\n",
       "      <td>/network/scratch/t/tengmeli/scratch/ecosystem-...</td>\n",
       "      <td>/network/scratch/t/tengmeli/scratch/ecosystem-...</td>\n",
       "      <td>/network/scratch/t/tengmeli/scratch/ecosystem-...</td>\n",
       "      <td>L1160919</td>\n",
       "      <td>14</td>\n",
       "      <td>26</td>\n",
       "      <td>76</td>\n",
       "      <td>0.021957</td>\n",
       "    </tr>\n",
       "    <tr>\n",
       "      <th>2</th>\n",
       "      <td>2</td>\n",
       "      <td>L893164</td>\n",
       "      <td>/network/scratch/t/tengmeli/scratch/ecosystem-...</td>\n",
       "      <td>/network/scratch/t/tengmeli/scratch/ecosystem-...</td>\n",
       "      <td>/network/scratch/t/tengmeli/scratch/ecosystem-...</td>\n",
       "      <td>/network/scratch/t/tengmeli/scratch/ecosystem-...</td>\n",
       "      <td>/network/scratch/t/tengmeli/scratch/ecosystem-...</td>\n",
       "      <td>/network/scratch/t/tengmeli/scratch/ecosystem-...</td>\n",
       "      <td>/network/scratch/t/tengmeli/scratch/ecosystem-...</td>\n",
       "      <td>/network/scratch/t/tengmeli/scratch/ecosystem-...</td>\n",
       "      <td>/network/scratch/t/tengmeli/scratch/ecosystem-...</td>\n",
       "      <td>/network/scratch/t/tengmeli/scratch/ecosystem-...</td>\n",
       "      <td>L893164</td>\n",
       "      <td>8</td>\n",
       "      <td>4</td>\n",
       "      <td>107</td>\n",
       "      <td>0.109308</td>\n",
       "    </tr>\n",
       "    <tr>\n",
       "      <th>3</th>\n",
       "      <td>3</td>\n",
       "      <td>L210257</td>\n",
       "      <td>/network/scratch/t/tengmeli/scratch/ecosystem-...</td>\n",
       "      <td>/network/scratch/t/tengmeli/scratch/ecosystem-...</td>\n",
       "      <td>/network/scratch/t/tengmeli/scratch/ecosystem-...</td>\n",
       "      <td>/network/scratch/t/tengmeli/scratch/ecosystem-...</td>\n",
       "      <td>/network/scratch/t/tengmeli/scratch/ecosystem-...</td>\n",
       "      <td>/network/scratch/t/tengmeli/scratch/ecosystem-...</td>\n",
       "      <td>/network/scratch/t/tengmeli/scratch/ecosystem-...</td>\n",
       "      <td>/network/scratch/t/tengmeli/scratch/ecosystem-...</td>\n",
       "      <td>/network/scratch/t/tengmeli/scratch/ecosystem-...</td>\n",
       "      <td>/network/scratch/t/tengmeli/scratch/ecosystem-...</td>\n",
       "      <td>L210257</td>\n",
       "      <td>74</td>\n",
       "      <td>5</td>\n",
       "      <td>880</td>\n",
       "      <td>0.038515</td>\n",
       "    </tr>\n",
       "    <tr>\n",
       "      <th>4</th>\n",
       "      <td>4</td>\n",
       "      <td>L6223517</td>\n",
       "      <td>/network/scratch/t/tengmeli/scratch/ecosystem-...</td>\n",
       "      <td>/network/scratch/t/tengmeli/scratch/ecosystem-...</td>\n",
       "      <td>/network/scratch/t/tengmeli/scratch/ecosystem-...</td>\n",
       "      <td>/network/scratch/t/tengmeli/scratch/ecosystem-...</td>\n",
       "      <td>/network/scratch/t/tengmeli/scratch/ecosystem-...</td>\n",
       "      <td>/network/scratch/t/tengmeli/scratch/ecosystem-...</td>\n",
       "      <td>/network/scratch/t/tengmeli/scratch/ecosystem-...</td>\n",
       "      <td>/network/scratch/t/tengmeli/scratch/ecosystem-...</td>\n",
       "      <td>/network/scratch/t/tengmeli/scratch/ecosystem-...</td>\n",
       "      <td>/network/scratch/t/tengmeli/scratch/ecosystem-...</td>\n",
       "      <td>L6223517</td>\n",
       "      <td>8</td>\n",
       "      <td>3</td>\n",
       "      <td>321</td>\n",
       "      <td>0.039159</td>\n",
       "    </tr>\n",
       "  </tbody>\n",
       "</table>\n",
       "</div>"
      ],
      "text/plain": [
       "   Unnamed: 0   hotspot                                                  r  \\\n",
       "0           0   L678935  /network/scratch/t/tengmeli/scratch/ecosystem-...   \n",
       "1           1  L1160919  /network/scratch/t/tengmeli/scratch/ecosystem-...   \n",
       "2           2   L893164  /network/scratch/t/tengmeli/scratch/ecosystem-...   \n",
       "3           3   L210257  /network/scratch/t/tengmeli/scratch/ecosystem-...   \n",
       "4           4  L6223517  /network/scratch/t/tengmeli/scratch/ecosystem-...   \n",
       "\n",
       "                                                   g  \\\n",
       "0  /network/scratch/t/tengmeli/scratch/ecosystem-...   \n",
       "1  /network/scratch/t/tengmeli/scratch/ecosystem-...   \n",
       "2  /network/scratch/t/tengmeli/scratch/ecosystem-...   \n",
       "3  /network/scratch/t/tengmeli/scratch/ecosystem-...   \n",
       "4  /network/scratch/t/tengmeli/scratch/ecosystem-...   \n",
       "\n",
       "                                                   b  \\\n",
       "0  /network/scratch/t/tengmeli/scratch/ecosystem-...   \n",
       "1  /network/scratch/t/tengmeli/scratch/ecosystem-...   \n",
       "2  /network/scratch/t/tengmeli/scratch/ecosystem-...   \n",
       "3  /network/scratch/t/tengmeli/scratch/ecosystem-...   \n",
       "4  /network/scratch/t/tengmeli/scratch/ecosystem-...   \n",
       "\n",
       "                                                 nir  \\\n",
       "0  /network/scratch/t/tengmeli/scratch/ecosystem-...   \n",
       "1  /network/scratch/t/tengmeli/scratch/ecosystem-...   \n",
       "2  /network/scratch/t/tengmeli/scratch/ecosystem-...   \n",
       "3  /network/scratch/t/tengmeli/scratch/ecosystem-...   \n",
       "4  /network/scratch/t/tengmeli/scratch/ecosystem-...   \n",
       "\n",
       "                                                meta  \\\n",
       "0  /network/scratch/t/tengmeli/scratch/ecosystem-...   \n",
       "1  /network/scratch/t/tengmeli/scratch/ecosystem-...   \n",
       "2  /network/scratch/t/tengmeli/scratch/ecosystem-...   \n",
       "3  /network/scratch/t/tengmeli/scratch/ecosystem-...   \n",
       "4  /network/scratch/t/tengmeli/scratch/ecosystem-...   \n",
       "\n",
       "                                                 rgb  \\\n",
       "0  /network/scratch/t/tengmeli/scratch/ecosystem-...   \n",
       "1  /network/scratch/t/tengmeli/scratch/ecosystem-...   \n",
       "2  /network/scratch/t/tengmeli/scratch/ecosystem-...   \n",
       "3  /network/scratch/t/tengmeli/scratch/ecosystem-...   \n",
       "4  /network/scratch/t/tengmeli/scratch/ecosystem-...   \n",
       "\n",
       "                                             species  \\\n",
       "0  /network/scratch/t/tengmeli/scratch/ecosystem-...   \n",
       "1  /network/scratch/t/tengmeli/scratch/ecosystem-...   \n",
       "2  /network/scratch/t/tengmeli/scratch/ecosystem-...   \n",
       "3  /network/scratch/t/tengmeli/scratch/ecosystem-...   \n",
       "4  /network/scratch/t/tengmeli/scratch/ecosystem-...   \n",
       "\n",
       "                                                 env  \\\n",
       "0  /network/scratch/t/tengmeli/scratch/ecosystem-...   \n",
       "1  /network/scratch/t/tengmeli/scratch/ecosystem-...   \n",
       "2  /network/scratch/t/tengmeli/scratch/ecosystem-...   \n",
       "3  /network/scratch/t/tengmeli/scratch/ecosystem-...   \n",
       "4  /network/scratch/t/tengmeli/scratch/ecosystem-...   \n",
       "\n",
       "                                                 ped  \\\n",
       "0  /network/scratch/t/tengmeli/scratch/ecosystem-...   \n",
       "1  /network/scratch/t/tengmeli/scratch/ecosystem-...   \n",
       "2  /network/scratch/t/tengmeli/scratch/ecosystem-...   \n",
       "3  /network/scratch/t/tengmeli/scratch/ecosystem-...   \n",
       "4  /network/scratch/t/tengmeli/scratch/ecosystem-...   \n",
       "\n",
       "                                             bioclim hotspot_id  \\\n",
       "0  /network/scratch/t/tengmeli/scratch/ecosystem-...    L678935   \n",
       "1  /network/scratch/t/tengmeli/scratch/ecosystem-...   L1160919   \n",
       "2  /network/scratch/t/tengmeli/scratch/ecosystem-...    L893164   \n",
       "3  /network/scratch/t/tengmeli/scratch/ecosystem-...    L210257   \n",
       "4  /network/scratch/t/tengmeli/scratch/ecosystem-...   L6223517   \n",
       "\n",
       "   june_complete_checklists  state_id  num_complete_checklists        pL  \n",
       "0                        15        12                      432  0.006107  \n",
       "1                        14        26                       76  0.021957  \n",
       "2                         8         4                      107  0.109308  \n",
       "3                        74         5                      880  0.038515  \n",
       "4                         8         3                      321  0.039159  "
      ]
     },
     "execution_count": 13,
     "metadata": {},
     "output_type": "execute_result"
    }
   ],
   "source": [
    "d=pd.read_csv('/network/scratch/t/tengmeli/scratch/ecosystem-embedding/training/train_clustered_vf.csv')\n",
    "#finding p(L)\n",
    "by_state=d.groupby(['state_id'])['num_complete_checklists'].sum()\n",
    "pL=by_state/d['num_complete_checklists'].sum()\n",
    "d['pL']=d['state_id'].map(pL)\n",
    "d.head()"
   ]
  },
  {
   "cell_type": "code",
   "execution_count": 14,
   "metadata": {},
   "outputs": [],
   "source": [
    "#check values of pL \n",
    "#pL"
   ]
  },
  {
   "cell_type": "code",
   "execution_count": 15,
   "metadata": {},
   "outputs": [],
   "source": [
    "#Mapping each state to its corresponding list of locations{'state_id':[hotspot1, hotspot2,...]}"
   ]
  },
  {
   "cell_type": "code",
   "execution_count": 16,
   "metadata": {},
   "outputs": [],
   "source": [
    "\n",
    "state_to_locations=d.groupby('state_id').agg({'hotspot':list})\n",
    "state_to_locations=dict(state_to_locations['hotspot'])\n",
    "#state_to_locations[1]"
   ]
  },
  {
   "cell_type": "code",
   "execution_count": 17,
   "metadata": {},
   "outputs": [],
   "source": [
    "#Finding Lookup Table speciesToState dictionary of dictionary =>how many checklists of that species in that state=> {species:{state:Num_checklists}}"
   ]
  },
  {
   "cell_type": "code",
   "execution_count": null,
   "metadata": {},
   "outputs": [],
   "source": [
    "#Run Only Once \n",
    "#state_to_species mapping\n",
    "species_to_state=defaultdict(lambda : defaultdict(lambda : 0))\n",
    "for state,locations in state_to_locations.items():\n",
    "    #print(locations)\n",
    "    for location in locations:\n",
    "        #print(location)\n",
    "        path=os.path.join('/network/scratch/t/tengmeli/scratch/ecosystem-embedding/ebird_data',location + '_complete_checklists.pkl')\n",
    "        with open(path, 'rb') as f:\n",
    "               l_to_s = pickle.load(f)\n",
    "        \n",
    "        if  l_to_s.empty :\n",
    "            print(f'cannot find file at {path}')\n",
    "            continue\n",
    "        #filter month of June for each location\n",
    "        l_to_s=l_to_s[l_to_s['MONTH']=='June']\n",
    "        #Preprocess N/A values by filling zeros=>some species have 0 occurance \n",
    "        l_to_s['SPECIES_COMPLETE_CHECKLISTS']=l_to_s['SPECIES_COMPLETE_CHECKLISTS'].fillna(0)\n",
    "        assert len(l_to_s)==684 , 'length of filterd june is not as expected'\n",
    "        assert not (l_to_s['SPECIES_COMPLETE_CHECKLISTS'].isnull().any() ), 'some null valus is present'\n",
    "        for species in l_to_s['SCIENTIFIC NAME']:\n",
    "            #print(species)\n",
    "            #print(l_to_s[l_to_s['SCIENTIFIC NAME']==species]['SPECIES_COMPLETE_CHECKLISTS'])\n",
    "            #break\n",
    "            species_to_state[species][state]+=(l_to_s[l_to_s['SCIENTIFIC NAME']==species]['SPECIES_COMPLETE_CHECKLISTS'].to_numpy().item())\n",
    "            \n",
    "      \n",
    "\n",
    "        "
   ]
  },
  {
   "cell_type": "code",
   "execution_count": null,
   "metadata": {},
   "outputs": [],
   "source": [
    "#some checks\n",
    "species_to_state['Acanthis hornemanni']\n",
    "l_to_s[l_to_s['SCIENTIFIC NAME']=='Acanthis flammea']['SPECIES_COMPLETE_CHECKLISTS'].to_numpy().item()"
   ]
  },
  {
   "cell_type": "code",
   "execution_count": null,
   "metadata": {},
   "outputs": [],
   "source": [
    "#Sanity checks\n",
    "lookup_df=pd.DataFrame(species_to_state)\n",
    "lookup_df.isnull().any()\n",
    "lookup_df.head()"
   ]
  },
  {
   "cell_type": "code",
   "execution_count": null,
   "metadata": {},
   "outputs": [],
   "source": [
    "#saving the lookup table \n",
    "\n",
    "with open('/network/scratch/t/tengmeli/scratch/ecosystem-embedding/training/species_to_states.pkl', 'wb') as f:\n",
    "    pickle.dump(lookup_df, f)"
   ]
  },
  {
   "cell_type": "code",
   "execution_count": null,
   "metadata": {},
   "outputs": [],
   "source": [
    "#Sanity checks=>sum species have 0 total occurance !\n",
    "#sum(lookup_df['Vireo vicinior'])"
   ]
  },
  {
   "cell_type": "code",
   "execution_count": null,
   "metadata": {},
   "outputs": [],
   "source": [
    "#a bar plot"
   ]
  },
  {
   "cell_type": "code",
   "execution_count": null,
   "metadata": {},
   "outputs": [],
   "source": [
    "with open('/network/scratch/t/tengmeli/scratch/ecosystem-embedding/training/species_to_states.pkl', 'rb') as f:\n",
    "    lookup_df= pickle.load(f)\n",
    "\n",
    "lookup_df.plot.bar()\n"
   ]
  },
  {
   "cell_type": "code",
   "execution_count": null,
   "metadata": {},
   "outputs": [],
   "source": [
    "#Calcultate probalities (p(L|y)) => num_checklists_reporting species y in state L /num of checklists reporting species y in all states \n",
    "\n",
    "lookup_df=lookup_df.apply(lambda x : x /sum(x))\n",
    "lookup_df=lookup_df.fillna(0)\n",
    "lookup_df['pL']=pL\n",
    "lookup_df.head()"
   ]
  },
  {
   "cell_type": "code",
   "execution_count": null,
   "metadata": {},
   "outputs": [],
   "source": [
    "#Saving \n",
    "with open('/network/scratch/t/tengmeli/scratch/ecosystem-embedding/training/species_to_states_probs.pkl', 'wb') as f:\n",
    "    pickle.dump(lookup_df, f)"
   ]
  },
  {
   "cell_type": "code",
   "execution_count": null,
   "metadata": {},
   "outputs": [],
   "source": [
    "#Correction factor => p(L|y)/p(L) "
   ]
  },
  {
   "cell_type": "code",
   "execution_count": null,
   "metadata": {},
   "outputs": [],
   "source": [
    "correction_factor=lookup_df.copy()\n",
    "correction_factor.loc[:, correction_factor.columns!='pL']=correction_factor.loc[:, correction_factor.columns!='pL'].apply(lambda x : x/correction_factor['pL'])"
   ]
  },
  {
   "cell_type": "code",
   "execution_count": null,
   "metadata": {},
   "outputs": [],
   "source": [
    "#check how it looks\n",
    "correction_factor"
   ]
  },
  {
   "cell_type": "code",
   "execution_count": null,
   "metadata": {},
   "outputs": [],
   "source": [
    "#some statistics \n",
    "correction_factor.describe()"
   ]
  },
  {
   "cell_type": "code",
   "execution_count": null,
   "metadata": {},
   "outputs": [],
   "source": [
    "correction_factor.max().max()"
   ]
  },
  {
   "cell_type": "code",
   "execution_count": null,
   "metadata": {},
   "outputs": [],
   "source": [
    "correction_factor.min().min()"
   ]
  },
  {
   "cell_type": "code",
   "execution_count": null,
   "metadata": {},
   "outputs": [],
   "source": [
    "correction_factor.mean().mean()"
   ]
  },
  {
   "cell_type": "code",
   "execution_count": null,
   "metadata": {},
   "outputs": [],
   "source": [
    "#saving correction factor"
   ]
  },
  {
   "cell_type": "code",
   "execution_count": null,
   "metadata": {},
   "outputs": [],
   "source": [
    "\n",
    "with open('/network/scratch/t/tengmeli/scratch/ecosystem-embedding/training/correction_factor.pkl', 'wb') as f:\n",
    "    pickle.dump(correction_factor, f)"
   ]
  },
  {
   "cell_type": "code",
   "execution_count": null,
   "metadata": {},
   "outputs": [],
   "source": []
  }
 ],
 "metadata": {
  "kernelspec": {
   "display_name": "ebird-env",
   "language": "python",
   "name": "ebird-env"
  },
  "language_info": {
   "codemirror_mode": {
    "name": "ipython",
    "version": 3
   },
   "file_extension": ".py",
   "mimetype": "text/x-python",
   "name": "python",
   "nbconvert_exporter": "python",
   "pygments_lexer": "ipython3",
   "version": "3.6.13"
  }
 },
 "nbformat": 4,
 "nbformat_minor": 4
}
