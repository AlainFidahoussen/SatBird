{
 "cells": [
  {
   "cell_type": "markdown",
   "id": "d0736185",
   "metadata": {},
   "source": []
  },
  {
   "cell_type": "code",
   "execution_count": null,
   "id": "4e070c3c",
   "metadata": {},
   "outputs": [],
   "source": [
    "import pandas as pd\n",
    "import numpy as np\n",
    "import json\n",
    "from matplotlib import pyplot as plt\n",
    "import csv\n",
    "from tqdm import tqdm"
   ]
  },
  {
   "cell_type": "markdown",
   "id": "6f75f5fb",
   "metadata": {},
   "source": [
    "## e-butterfly"
   ]
  },
  {
   "cell_type": "code",
   "execution_count": null,
   "id": "0fec602d",
   "metadata": {},
   "outputs": [],
   "source": [
    "buttefly_data = pd.read_csv(r'/ebutterfly/Darwin/0177350-230224095556074/occurrence_.csv', \n",
    "                  sep=\"\t|\t\",\n",
    "                  engine=\"python\")"
   ]
  },
  {
   "cell_type": "code",
   "execution_count": null,
   "id": "891736bd",
   "metadata": {},
   "outputs": [],
   "source": [
    "buttefly_data.shape"
   ]
  },
  {
   "cell_type": "code",
   "execution_count": null,
   "id": "2104c66e",
   "metadata": {},
   "outputs": [],
   "source": [
    "buttefly_data[\"eventID\"].value_counts()"
   ]
  },
  {
   "cell_type": "code",
   "execution_count": null,
   "id": "3c69351a",
   "metadata": {},
   "outputs": [],
   "source": [
    "buttefly_data_US = buttefly_data[buttefly_data[\"countryCode\"] == 'US']\n",
    "buttefly_data_US.reset_index(drop=True, inplace=True)\n",
    "buttefly_data_US = buttefly_data_US[buttefly_data_US[\"year\"] >= 2010]\n",
    "buttefly_data_US.reset_index(drop=True, inplace=True)"
   ]
  },
  {
   "cell_type": "code",
   "execution_count": null,
   "id": "ae519c43",
   "metadata": {},
   "outputs": [],
   "source": [
    "buttefly_data_US.to_csv(\"ebutterfly/Darwin/0177350-230224095556074/occ_usa.csv\", index=False)"
   ]
  },
  {
   "cell_type": "code",
   "execution_count": null,
   "id": "4d0a4037",
   "metadata": {},
   "outputs": [],
   "source": [
    "buttefly_data_US = pd.read_csv(\"/ebutterfly/Darwin/0177350-230224095556074/occ_usa.csv\")"
   ]
  },
  {
   "cell_type": "code",
   "execution_count": null,
   "id": "aa48eedf",
   "metadata": {},
   "outputs": [],
   "source": [
    "buttefly_data_US.shape"
   ]
  },
  {
   "cell_type": "markdown",
   "id": "f7884444",
   "metadata": {},
   "source": [
    "'verbatimLocality' ->location\n",
    "'occurrenceID' -> eb-observation\n",
    "'eventID' -> eb-checklist\n",
    "'locationID' -> eb-site\n",
    "'species'\n",
    "'decimalLatitude'\n",
    "'decimalLongitude'\n",
    "'taxonID' -> eb-species"
   ]
  },
  {
   "cell_type": "code",
   "execution_count": null,
   "id": "d16b142e",
   "metadata": {},
   "outputs": [],
   "source": [
    "buttefly_data_US"
   ]
  },
  {
   "cell_type": "code",
   "execution_count": null,
   "id": "d89aefc0",
   "metadata": {},
   "outputs": [],
   "source": [
    "#checklists"
   ]
  },
  {
   "cell_type": "code",
   "execution_count": null,
   "id": "f7c2840b",
   "metadata": {},
   "outputs": [],
   "source": [
    "ebutterfly_species_list = buttefly_data_US[\"taxonID\"].unique()"
   ]
  },
  {
   "cell_type": "code",
   "execution_count": null,
   "id": "c4114891",
   "metadata": {},
   "outputs": [],
   "source": [
    "len(ebutterfly_species_list)"
   ]
  },
  {
   "cell_type": "code",
   "execution_count": null,
   "id": "df6e1512",
   "metadata": {},
   "outputs": [],
   "source": [
    "ebutterfly_species_list"
   ]
  },
  {
   "cell_type": "code",
   "execution_count": null,
   "id": "e35332b3",
   "metadata": {},
   "outputs": [],
   "source": [
    "buttefly_data_US[\"locationID\"].value_counts()"
   ]
  },
  {
   "cell_type": "code",
   "execution_count": null,
   "id": "dd70cce3",
   "metadata": {},
   "outputs": [],
   "source": [
    "US_unique_locations = buttefly_data_US[\"verbatimLocality\"].value_counts()"
   ]
  },
  {
   "cell_type": "code",
   "execution_count": null,
   "id": "e9af3229",
   "metadata": {},
   "outputs": [],
   "source": [
    "count = 0\n",
    "for loc in US_unique_locations.keys():\n",
    "    if (US_unique_locations[loc] > 1):\n",
    "        print(US_unique_locations[loc], loc)\n",
    "        count += 1\n",
    "print(count)"
   ]
  },
  {
   "cell_type": "code",
   "execution_count": null,
   "id": "6c9e46d1",
   "metadata": {},
   "outputs": [],
   "source": [
    "#buttefly_data_US.set_index(['verbatimLocality'], inplace=True)"
   ]
  },
  {
   "cell_type": "code",
   "execution_count": null,
   "id": "7306ecf1",
   "metadata": {},
   "outputs": [],
   "source": [
    "buttefly_data_US.iloc[buttefly_data_US.index[buttefly_data_US[\"verbatimLocality\"] == \"Bartram's Garden\"]]['decimalLatitude']"
   ]
  },
  {
   "cell_type": "code",
   "execution_count": null,
   "id": "a4759063",
   "metadata": {},
   "outputs": [],
   "source": [
    "ebutterfly_checklist_ids = buttefly_data_US[\"eventID\"].unique()"
   ]
  },
  {
   "cell_type": "code",
   "execution_count": null,
   "id": "6298f3a1",
   "metadata": {},
   "outputs": [],
   "source": [
    "len(ebutterfly_checklist_ids)"
   ]
  },
  {
   "cell_type": "code",
   "execution_count": null,
   "id": "1238f18f",
   "metadata": {},
   "outputs": [],
   "source": [
    "species = {}\n",
    "print(len(ebutterfly_species_list))\n",
    "ebutterfly_species_list = [x for x in ebutterfly_species_list if str(x) != 'nan']\n",
    "print(len(ebutterfly_species_list))\n",
    "\n",
    "for i, species_id in enumerate(ebutterfly_species_list):\n",
    "    species[species_id] = i"
   ]
  },
  {
   "cell_type": "code",
   "execution_count": null,
   "id": "5d4d8538",
   "metadata": {},
   "outputs": [],
   "source": [
    "species"
   ]
  },
  {
   "cell_type": "code",
   "execution_count": null,
   "id": "2bac94f7",
   "metadata": {},
   "outputs": [],
   "source": [
    "checklists = {}\n",
    "for checklist_id in tqdm(ebutterfly_checklist_ids):\n",
    "    species_in_checklist = buttefly_data_US.iloc[buttefly_data_US.index[buttefly_data_US[\"eventID\"] == checklist_id]][\"taxonID\"].values\n",
    "#     species_vals = [species.get(key) for key in species_in_checklist]\n",
    "#     print(species_vals, species_in_checklist)\n",
    "    checklists[\"checklist_id\"] = species_in_checklist"
   ]
  },
  {
   "cell_type": "markdown",
   "id": "12729c90",
   "metadata": {},
   "source": [
    "## e-bird"
   ]
  },
  {
   "cell_type": "code",
   "execution_count": null,
   "id": "358e08f4",
   "metadata": {},
   "outputs": [],
   "source": [
    "ebird_data = pd.read_csv(r'ebird/all_summer_hotspots.csv')"
   ]
  },
  {
   "cell_type": "code",
   "execution_count": null,
   "id": "d53c2896",
   "metadata": {},
   "outputs": [],
   "source": [
    "ebird_data.shape"
   ]
  },
  {
   "cell_type": "code",
   "execution_count": null,
   "id": "481fe296",
   "metadata": {},
   "outputs": [],
   "source": [
    "ebird_data"
   ]
  },
  {
   "cell_type": "code",
   "execution_count": null,
   "id": "503ce9b1",
   "metadata": {},
   "outputs": [],
   "source": [
    "ebird_data.groupby([\"hotspot_name\"]).size()"
   ]
  },
  {
   "cell_type": "code",
   "execution_count": null,
   "id": "f2421391",
   "metadata": {},
   "outputs": [],
   "source": [
    "ebird_data[\"hotspot_name\"].value_counts()"
   ]
  },
  {
   "cell_type": "code",
   "execution_count": null,
   "id": "8d3aed7f",
   "metadata": {},
   "outputs": [],
   "source": [
    "t = np.unique(ebird_data[\"hotspot_name\"].values.tolist(), return_counts=True)"
   ]
  },
  {
   "cell_type": "code",
   "execution_count": null,
   "id": "be68fc81",
   "metadata": {},
   "outputs": [],
   "source": [
    "t[0].shape"
   ]
  },
  {
   "cell_type": "code",
   "execution_count": null,
   "id": "912716ed",
   "metadata": {},
   "outputs": [],
   "source": [
    "ebird_locations = ebird_data[\"hotspot_name\"].values.tolist()\n",
    "ebuttefly_locations = buttefly_data_US[\"verbatimLocality\"].values.tolist()\n",
    "locations_overlap = list(set(ebird_locations) & set(ebuttefly_locations))"
   ]
  },
  {
   "cell_type": "code",
   "execution_count": null,
   "id": "1560760e",
   "metadata": {},
   "outputs": [],
   "source": [
    "# ebird_data.set_index(['lon', 'lat'], inplace=True)\n",
    "# buttefly_data_US.set_index(['decimalLongitude', 'decimalLatitude'], inplace=True)"
   ]
  },
  {
   "cell_type": "code",
   "execution_count": null,
   "id": "0b4e80b7",
   "metadata": {},
   "outputs": [],
   "source": [
    "buttefly_data_US"
   ]
  },
  {
   "cell_type": "code",
   "execution_count": null,
   "id": "26b59ff8",
   "metadata": {},
   "outputs": [],
   "source": [
    "ebird_data"
   ]
  },
  {
   "cell_type": "code",
   "execution_count": null,
   "id": "69dd52b3",
   "metadata": {},
   "outputs": [],
   "source": [
    "# ebird_locations = ebird_data[(\"lon\", \"lat\")].values.tolist()\n",
    "# ebuttefly_locations = buttefly_data_US[(\"decimalLatitude\", \"decimalLongitude\")].values.tolist()\n",
    "# locations_overlap = list(set(ebird_locations) & set(ebuttefly_locations))"
   ]
  },
  {
   "cell_type": "code",
   "execution_count": null,
   "id": "ac70d645",
   "metadata": {},
   "outputs": [],
   "source": [
    "locations_overlap"
   ]
  },
  {
   "cell_type": "code",
   "execution_count": null,
   "id": "29dead10",
   "metadata": {},
   "outputs": [],
   "source": [
    "len(locations_overlap)"
   ]
  },
  {
   "cell_type": "markdown",
   "id": "0db90c2c",
   "metadata": {},
   "source": [
    "### Parse the overlapped locations:"
   ]
  },
  {
   "cell_type": "code",
   "execution_count": null,
   "id": "0ba042ab",
   "metadata": {},
   "outputs": [],
   "source": [
    "for loc_id in locations_overlap:\n",
    "    d1 = ebird_data.iloc[ebird_data.index[ebird_data[\"hotspot_name\"] == loc_id]]\n",
    "    d2 = buttefly_data_US.iloc[buttefly_data_US.index[buttefly_data_US[\"verbatimLocality\"] == loc_id]]"
   ]
  },
  {
   "cell_type": "code",
   "execution_count": null,
   "id": "3d0f73c2",
   "metadata": {},
   "outputs": [],
   "source": [
    "df_1 = ebird_data[[\"lon\", \"lat\"]]\n",
    "df_2 = buttefly_data_US.drop_duplicates(subset=[\"decimalLongitude\", \"decimalLatitude\"])"
   ]
  },
  {
   "cell_type": "code",
   "execution_count": null,
   "id": "c98ce32d",
   "metadata": {},
   "outputs": [],
   "source": [
    "df_2 = df_2.rename(columns={\"decimalLongitude\": \"lon\", \"decimalLatitude\": \"lat\"})"
   ]
  },
  {
   "cell_type": "code",
   "execution_count": null,
   "id": "eddb9488",
   "metadata": {},
   "outputs": [],
   "source": [
    "df_1"
   ]
  },
  {
   "cell_type": "code",
   "execution_count": null,
   "id": "215b8c87",
   "metadata": {},
   "outputs": [],
   "source": [
    "df_2"
   ]
  },
  {
   "cell_type": "code",
   "execution_count": null,
   "id": "1f8367a3",
   "metadata": {},
   "outputs": [],
   "source": [
    "df_lon_lat = pd.concat([df_1, df_2], axis=0)"
   ]
  },
  {
   "cell_type": "code",
   "execution_count": null,
   "id": "641bb116",
   "metadata": {},
   "outputs": [],
   "source": [
    "df_lon_lat"
   ]
  },
  {
   "cell_type": "code",
   "execution_count": null,
   "id": "3942d406",
   "metadata": {},
   "outputs": [],
   "source": [
    "grouped_df = df_lon_lat.groupby([\"lon\", \"lat\"])\n",
    "\n",
    "group_counts = df_lon_lat[[\"lon\", \"lat\"]].value_counts().rename('count')\n",
    "\n",
    "sorted_unique_values = group_counts.groupby(level=0).apply(lambda x: x.sort_values(ascending=False)).reset_index()\n",
    "\n",
    "print(sorted_unique_values[sorted_unique_values[\"count\"] > 1])"
   ]
  },
  {
   "cell_type": "code",
   "execution_count": null,
   "id": "b28a2ec9",
   "metadata": {
    "scrolled": true
   },
   "outputs": [],
   "source": [
    "import folium\n",
    "import pandas as pd\n",
    "from IPython.display import display\n",
    "\n",
    "map_center = [37.0902, -95.7129] # USA center coordinates\n",
    "map_zoom = 4\n",
    "map_obj = folium.Map(location=map_center, zoom_start=map_zoom, tiles='Stamen Terrain')\n",
    "\n",
    "#ebird - blue\n",
    "for index, row in df_1.iterrows():\n",
    "    lat = row['lat']\n",
    "    lon = row['lon']\n",
    "    folium.CircleMarker(\n",
    "        location=[lat, lon],\n",
    "        radius=5,\n",
    "        color='blue',\n",
    "        fill=True,\n",
    "        fill_color='blue',\n",
    "        fill_opacity=0.6\n",
    "    ).add_to(map_obj)\n",
    "\n",
    "    # ebutterfly - red\n",
    "for index, row in df_2.iterrows():\n",
    "    lat = row['lat']\n",
    "    lon = row['lon']\n",
    "    folium.CircleMarker(\n",
    "        location=[lat, lon],\n",
    "        radius=5,\n",
    "        color='red',\n",
    "        fill=True,\n",
    "        fill_color='blue',\n",
    "        fill_opacity=0.6\n",
    "    ).add_to(map_obj)\n",
    "    \n",
    "# Display the map\n",
    "display(map_obj)"
   ]
  }
 ],
 "metadata": {
  "kernelspec": {
   "display_name": "Python 3 (ipykernel)",
   "language": "python",
   "name": "python3"
  },
  "language_info": {
   "codemirror_mode": {
    "name": "ipython",
    "version": 3
   },
   "file_extension": ".py",
   "mimetype": "text/x-python",
   "name": "python",
   "nbconvert_exporter": "python",
   "pygments_lexer": "ipython3",
   "version": "3.7.11"
  }
 },
 "nbformat": 4,
 "nbformat_minor": 5
}
