{
 "cells": [
  {
   "cell_type": "code",
   "execution_count": 2,
   "id": "963d91bd",
   "metadata": {},
   "outputs": [],
   "source": [
    "import pandas as pd\n",
    "import numpy as np\n",
    "import json\n",
    "from matplotlib import pyplot as plt\n",
    "import csv"
   ]
  },
  {
   "cell_type": "markdown",
   "id": "e64e97c5",
   "metadata": {},
   "source": [
    "# Reading the species file (GBIF annotated archive)"
   ]
  },
  {
   "cell_type": "code",
   "execution_count": null,
   "id": "e72a7b2d",
   "metadata": {},
   "outputs": [],
   "source": [
    "df_species = pd.read_csv(r'/ebutterfly/Species/0177442-230224095556074.csv', \n",
    "                  sep=\"\t|\t\",\n",
    "                  engine=\"python\")"
   ]
  },
  {
   "cell_type": "code",
   "execution_count": null,
   "id": "9b072f7f",
   "metadata": {},
   "outputs": [],
   "source": [
    "df_species.keys()"
   ]
  },
  {
   "cell_type": "code",
   "execution_count": null,
   "id": "4518a0ac",
   "metadata": {},
   "outputs": [],
   "source": [
    "df_species"
   ]
  },
  {
   "cell_type": "code",
   "execution_count": null,
   "id": "b2b197ac",
   "metadata": {},
   "outputs": [],
   "source": [
    "df_species.iloc[0]"
   ]
  },
  {
   "cell_type": "code",
   "execution_count": null,
   "id": "48451386",
   "metadata": {},
   "outputs": [],
   "source": [
    "df_species['numberOfOccurrences'].max()"
   ]
  },
  {
   "cell_type": "code",
   "execution_count": null,
   "id": "1b9bd948",
   "metadata": {},
   "outputs": [],
   "source": [
    "df_species['numberOfOccurrences'].min()"
   ]
  },
  {
   "cell_type": "code",
   "execution_count": null,
   "id": "4186a87b",
   "metadata": {},
   "outputs": [],
   "source": [
    "df_species['numberOfOccurrences'].mean()"
   ]
  },
  {
   "cell_type": "code",
   "execution_count": null,
   "id": "ccbdcb2b",
   "metadata": {},
   "outputs": [],
   "source": [
    "temp = df.iloc[df.index[df['numberOfOccurrences'] > 100]]"
   ]
  },
  {
   "cell_type": "markdown",
   "id": "335e207f",
   "metadata": {},
   "source": [
    "# Reading the simple file  (GBIF annotated archive)\n",
    "which includes occurances, each with their unique ID, location (lat, long), species, country, date"
   ]
  },
  {
   "cell_type": "code",
   "execution_count": null,
   "id": "c157346b",
   "metadata": {},
   "outputs": [],
   "source": [
    "df_obs = pd.read_csv(r'ebutterfly/Simple/0177310-230224095556074.csv', \n",
    "                  sep=\"\t|\t\",\n",
    "                  engine=\"python\")"
   ]
  },
  {
   "cell_type": "code",
   "execution_count": null,
   "id": "526082c9",
   "metadata": {},
   "outputs": [],
   "source": [
    "df_obs.keys()"
   ]
  },
  {
   "cell_type": "code",
   "execution_count": null,
   "id": "9e683c94",
   "metadata": {},
   "outputs": [],
   "source": [
    "df_obs"
   ]
  },
  {
   "cell_type": "code",
   "execution_count": null,
   "id": "5796babf",
   "metadata": {},
   "outputs": [],
   "source": [
    "df_obs['countryCode'].value_counts()"
   ]
  },
  {
   "cell_type": "code",
   "execution_count": null,
   "id": "445631f9",
   "metadata": {},
   "outputs": [],
   "source": [
    "df_obs.iloc[df_obs.index[df_obs['taxonKey']  == 1918309]]"
   ]
  },
  {
   "cell_type": "code",
   "execution_count": null,
   "id": "65d5f52c",
   "metadata": {},
   "outputs": [],
   "source": [
    "df_obs.iloc[100]"
   ]
  },
  {
   "cell_type": "code",
   "execution_count": null,
   "id": "924566e8",
   "metadata": {},
   "outputs": [],
   "source": [
    "df_obs.groupby([\"decimalLatitude\", \"decimalLongitude\"]).size()"
   ]
  },
  {
   "cell_type": "code",
   "execution_count": null,
   "id": "617a3b95",
   "metadata": {},
   "outputs": [],
   "source": [
    "df_obs['decimalLatitude'].unique().shape"
   ]
  },
  {
   "cell_type": "code",
   "execution_count": null,
   "id": "b6828300",
   "metadata": {},
   "outputs": [],
   "source": [
    "df_obs['decimalLongitude'].unique().shape"
   ]
  },
  {
   "cell_type": "code",
   "execution_count": null,
   "id": "5dc86119",
   "metadata": {},
   "outputs": [],
   "source": [
    "df_obs.index[df2['year'] > 2000]"
   ]
  },
  {
   "cell_type": "code",
   "execution_count": null,
   "id": "1ffd25d9",
   "metadata": {},
   "outputs": [],
   "source": [
    "df_temp = df_obs.iloc[df_obs.index[(df_obs['year'] > 2000) & (df_obs['year'] < 2022)]]"
   ]
  },
  {
   "cell_type": "code",
   "execution_count": null,
   "id": "5aac99c7",
   "metadata": {},
   "outputs": [],
   "source": [
    "df_temp.shape"
   ]
  },
  {
   "cell_type": "code",
   "execution_count": null,
   "id": "6bd653ff",
   "metadata": {},
   "outputs": [],
   "source": [
    "df_temp['year'].hist()"
   ]
  },
  {
   "cell_type": "code",
   "execution_count": null,
   "id": "954a4eb6",
   "metadata": {},
   "outputs": [],
   "source": [
    "df_temp['month'].value_counts()"
   ]
  },
  {
   "cell_type": "code",
   "execution_count": null,
   "id": "2db60d15",
   "metadata": {},
   "outputs": [],
   "source": [
    "df_temp.loc[df_temp.index[(df_temp['month'] == 6)]]['countryCode'].value_counts()"
   ]
  },
  {
   "cell_type": "code",
   "execution_count": null,
   "id": "6d1fa412",
   "metadata": {},
   "outputs": [],
   "source": [
    "final_df = df_temp.loc[df_temp.index[(df_temp['month'] == 6) & (df_temp['countryCode'] == \"US\")]]"
   ]
  },
  {
   "cell_type": "code",
   "execution_count": null,
   "id": "0e0917f6",
   "metadata": {},
   "outputs": [],
   "source": [
    "final_df['species']"
   ]
  },
  {
   "cell_type": "code",
   "execution_count": null,
   "id": "14013d74",
   "metadata": {},
   "outputs": [],
   "source": [
    "final_df['species'].value_counts()"
   ]
  },
  {
   "cell_type": "code",
   "execution_count": null,
   "id": "f3f50e30",
   "metadata": {},
   "outputs": [],
   "source": [
    "final_df.groupby([\"decimalLatitude\", \"decimalLongitude\"]).size()"
   ]
  },
  {
   "cell_type": "code",
   "execution_count": null,
   "id": "c5138a53",
   "metadata": {},
   "outputs": [],
   "source": [
    "final_df['kingdom'].value_counts()"
   ]
  },
  {
   "cell_type": "code",
   "execution_count": null,
   "id": "de901b36",
   "metadata": {},
   "outputs": [],
   "source": [
    "final_df['phylum'].value_counts()"
   ]
  },
  {
   "cell_type": "code",
   "execution_count": null,
   "id": "a686fdc1",
   "metadata": {},
   "outputs": [],
   "source": [
    "final_df['class'].value_counts()"
   ]
  },
  {
   "cell_type": "code",
   "execution_count": null,
   "id": "8ef8eb51",
   "metadata": {},
   "outputs": [],
   "source": [
    "final_df['order'].value_counts()"
   ]
  },
  {
   "cell_type": "code",
   "execution_count": null,
   "id": "dfe7b031",
   "metadata": {},
   "outputs": [],
   "source": [
    "final_df['family'].value_counts()"
   ]
  },
  {
   "cell_type": "code",
   "execution_count": null,
   "id": "49563c48",
   "metadata": {},
   "outputs": [],
   "source": [
    "final_df['genus'].value_counts()"
   ]
  },
  {
   "cell_type": "markdown",
   "id": "b55efc79",
   "metadata": {},
   "source": [
    "# Reading the occurances.txt file (GBIF annotated archive)"
   ]
  },
  {
   "cell_type": "code",
   "execution_count": null,
   "id": "4c956c6b",
   "metadata": {},
   "outputs": [],
   "source": [
    "# this file needs more memory than what I have \n",
    "df_all_occurances = pd.read_csv(r'ebutterfly/Darwin/0177350-230224095556074/all_occ.csv', \n",
    "                  sep=\"\t|\t\",\n",
    "                  engine=\"python\")"
   ]
  },
  {
   "cell_type": "code",
   "execution_count": null,
   "id": "710b9cfd",
   "metadata": {},
   "outputs": [],
   "source": [
    "df_all_occurances"
   ]
  },
  {
   "cell_type": "code",
   "execution_count": null,
   "id": "b478b191",
   "metadata": {},
   "outputs": [],
   "source": [
    "df_occurances.columns"
   ]
  },
  {
   "cell_type": "code",
   "execution_count": null,
   "id": "2eb482e8",
   "metadata": {},
   "outputs": [],
   "source": [
    "df_all_occurances['eventID'].value_counts()"
   ]
  },
  {
   "cell_type": "code",
   "execution_count": null,
   "id": "80e81de0",
   "metadata": {},
   "outputs": [],
   "source": [
    "df_all_occurances['countryCode'].value_counts()"
   ]
  },
  {
   "cell_type": "markdown",
   "id": "8bab7b3e",
   "metadata": {},
   "source": [
    "'verbatimLocality' ->location\n",
    "'occurrenceID' -> eb-observation\n",
    "'eventID' -> eb-checklist\n",
    "'locationID' -> eb-site\n",
    "'species'\n",
    "'decimalLatitude'\n",
    "'decimalLongitude'\n",
    "'taxonID' -> eb-species"
   ]
  },
  {
   "cell_type": "code",
   "execution_count": 4,
   "id": "bc131078",
   "metadata": {},
   "outputs": [],
   "source": [
    "df_occurances = pd.read_csv(r'/home/hagerradi/projects/Ecosystem_embeddings/ebutterfly/Darwin/0177350-230224095556074/partial_occ.csv', \n",
    "                  sep=\"\t|\t\",\n",
    "                  engine=\"python\")"
   ]
  },
  {
   "cell_type": "code",
   "execution_count": 5,
   "id": "b685d5e7",
   "metadata": {},
   "outputs": [
    {
     "data": {
      "text/plain": [
       "Index(['gbifID', 'abstract', 'accessRights', 'accrualMethod',\n",
       "       'accrualPeriodicity', 'accrualPolicy', 'alternative', 'audience',\n",
       "       'available', 'bibliographicCitation', 'conformsTo', 'contributor',\n",
       "       'coverage', 'created', 'creator', 'date', 'dateAccepted',\n",
       "       'dateCopyrighted', 'dateSubmitted', 'description', 'educationLevel',\n",
       "       'extent', 'format', 'hasFormat', 'hasPart', 'hasVersion', 'identifier',\n",
       "       'instructionalMethod', 'isFormatOf', 'isPartOf', 'isReferencedBy',\n",
       "       'isReplacedBy', 'isRequiredBy', 'isVersionOf', 'issued', 'language',\n",
       "       'license', 'mediator', 'medium', 'modified', 'provenance', 'publisher',\n",
       "       'references', 'relation', 'replaces', 'requires', 'rights',\n",
       "       'rightsHolder', 'source', 'spatial', 'subject', 'tableOfContents',\n",
       "       'temporal', 'title', 'type', 'valid', 'institutionID', 'collectionID',\n",
       "       'datasetID', 'institutionCode', 'collectionCode', 'datasetName',\n",
       "       'ownerInstitutionCode', 'basisOfRecord', 'informationWithheld',\n",
       "       'dataGeneralizations', 'dynamicProperties', 'occurrenceID',\n",
       "       'catalogNumber', 'recordNumber', 'recordedBy', 'recordedByID',\n",
       "       'individualCount', 'organismQuantity', 'organismQuantityType', 'sex',\n",
       "       'lifeStage', 'reproductiveCondition', 'behavior', 'establishmentMeans',\n",
       "       'degreeOfEstablishment', 'pathway', 'georeferenceVerificationStatus',\n",
       "       'occurrenceStatus', 'preparations', 'disposition',\n",
       "       'associatedOccurrences', 'associatedReferences', 'associatedSequences',\n",
       "       'associatedTaxa', 'otherCatalogNumbers', 'occurrenceRemarks',\n",
       "       'organismID', 'organismName', 'organismScope', 'associatedOrganisms',\n",
       "       'previousIdentifications', 'organismRemarks', 'materialSampleID',\n",
       "       'eventID'],\n",
       "      dtype='object')"
      ]
     },
     "execution_count": 5,
     "metadata": {},
     "output_type": "execute_result"
    }
   ],
   "source": [
    "df_occurances.keys()[0:100]"
   ]
  },
  {
   "cell_type": "code",
   "execution_count": 6,
   "id": "4d3a5f15",
   "metadata": {},
   "outputs": [
    {
     "data": {
      "text/plain": [
       "Index(['parentEventID', 'fieldNumber', 'eventDate', 'eventTime',\n",
       "       'startDayOfYear', 'endDayOfYear', 'year', 'month', 'day',\n",
       "       'verbatimEventDate', 'habitat', 'samplingProtocol', 'sampleSizeValue',\n",
       "       'sampleSizeUnit', 'samplingEffort', 'fieldNotes', 'eventRemarks',\n",
       "       'locationID', 'higherGeographyID', 'higherGeography', 'continent',\n",
       "       'waterBody', 'islandGroup', 'island', 'countryCode', 'stateProvince',\n",
       "       'county', 'municipality', 'locality', 'verbatimLocality',\n",
       "       'verbatimElevation', 'verticalDatum', 'verbatimDepth',\n",
       "       'minimumDistanceAboveSurfaceInMeters',\n",
       "       'maximumDistanceAboveSurfaceInMeters', 'locationAccordingTo',\n",
       "       'locationRemarks', 'decimalLatitude', 'decimalLongitude',\n",
       "       'coordinateUncertaintyInMeters', 'coordinatePrecision',\n",
       "       'pointRadiusSpatialFit', 'verbatimCoordinateSystem', 'verbatimSRS',\n",
       "       'footprintWKT', 'footprintSRS', 'footprintSpatialFit',\n",
       "       'georeferencedBy', 'georeferencedDate', 'georeferenceProtocol',\n",
       "       'georeferenceSources', 'georeferenceRemarks', 'geologicalContextID',\n",
       "       'earliestEonOrLowestEonothem', 'latestEonOrHighestEonothem',\n",
       "       'earliestEraOrLowestErathem', 'latestEraOrHighestErathem',\n",
       "       'earliestPeriodOrLowestSystem', 'latestPeriodOrHighestSystem',\n",
       "       'earliestEpochOrLowestSeries', 'latestEpochOrHighestSeries',\n",
       "       'earliestAgeOrLowestStage', 'latestAgeOrHighestStage',\n",
       "       'lowestBiostratigraphicZone', 'highestBiostratigraphicZone',\n",
       "       'lithostratigraphicTerms', 'group', 'formation', 'member', 'bed',\n",
       "       'identificationID', 'verbatimIdentification', 'identificationQualifier',\n",
       "       'typeStatus', 'identifiedBy', 'identifiedByID', 'dateIdentified',\n",
       "       'identificationReferences', 'identificationVerificationStatus',\n",
       "       'identificationRemarks', 'taxonID', 'scientificNameID',\n",
       "       'acceptedNameUsageID', 'parentNameUsageID', 'originalNameUsageID',\n",
       "       'nameAccordingToID', 'namePublishedInID', 'taxonConceptID',\n",
       "       'scientificName', 'acceptedNameUsage', 'parentNameUsage',\n",
       "       'originalNameUsage', 'nameAccordingTo', 'namePublishedIn',\n",
       "       'namePublishedInYear', 'higherClassification', 'kingdom', 'phylum',\n",
       "       'class', 'order'],\n",
       "      dtype='object')"
      ]
     },
     "execution_count": 6,
     "metadata": {},
     "output_type": "execute_result"
    }
   ],
   "source": [
    "df_occurances.keys()[100:200]"
   ]
  },
  {
   "cell_type": "code",
   "execution_count": 7,
   "id": "d15da1ca",
   "metadata": {},
   "outputs": [
    {
     "data": {
      "text/plain": [
       "Index(['family', 'subfamily', 'genus', 'genericName', 'subgenus',\n",
       "       'infragenericEpithet', 'specificEpithet', 'infraspecificEpithet',\n",
       "       'cultivarEpithet', 'taxonRank', 'verbatimTaxonRank', 'vernacularName',\n",
       "       'nomenclaturalCode', 'taxonomicStatus', 'nomenclaturalStatus',\n",
       "       'taxonRemarks', 'datasetKey', 'publishingCountry', 'lastInterpreted',\n",
       "       'elevation', 'elevationAccuracy', 'depth', 'depthAccuracy',\n",
       "       'distanceAboveSurface', 'distanceAboveSurfaceAccuracy',\n",
       "       'distanceFromCentroidInMeters', 'issue', 'mediaType', 'hasCoordinate',\n",
       "       'hasGeospatialIssues', 'taxonKey', 'acceptedTaxonKey', 'kingdomKey',\n",
       "       'phylumKey', 'classKey', 'orderKey', 'familyKey', 'genusKey',\n",
       "       'subgenusKey', 'speciesKey', 'species', 'acceptedScientificName',\n",
       "       'verbatimScientificName', 'typifiedName', 'protocol', 'lastParsed',\n",
       "       'lastCrawled', 'repatriated', 'relativeOrganismQuantity', 'level0Gid',\n",
       "       'level0Name', 'level1Gid', 'level1Name', 'level2Gid', 'level2Name',\n",
       "       'level3Gid', 'level3Name', 'iucnRedListCategory', 'eventType'],\n",
       "      dtype='object')"
      ]
     },
     "execution_count": 7,
     "metadata": {},
     "output_type": "execute_result"
    }
   ],
   "source": [
    "df_occurances.keys()[200:]"
   ]
  },
  {
   "cell_type": "code",
   "execution_count": null,
   "id": "d9b9d818",
   "metadata": {},
   "outputs": [],
   "source": [
    "df_occurances['eventID'].value_counts()"
   ]
  },
  {
   "cell_type": "code",
   "execution_count": null,
   "id": "fb15b629",
   "metadata": {},
   "outputs": [],
   "source": [
    "df_occurances.iloc[0].values.tolist()"
   ]
  },
  {
   "cell_type": "markdown",
   "id": "06bc414c",
   "metadata": {},
   "source": [
    "# Reading the occurances.txt file (Source archive)\n",
    "mapping observations to a checklist"
   ]
  },
  {
   "cell_type": "code",
   "execution_count": null,
   "id": "b9bac09f",
   "metadata": {},
   "outputs": [],
   "source": [
    "df_checklists = pd.read_csv(r'/ebutterfly/Soure_archive/dwca-ebutterfly-v1.409/occurrence_.csv', sep='\\t', engine=\"python\")"
   ]
  },
  {
   "cell_type": "code",
   "execution_count": null,
   "id": "01e2c24f",
   "metadata": {},
   "outputs": [],
   "source": [
    "df_checklists.keys()"
   ]
  },
  {
   "cell_type": "code",
   "execution_count": null,
   "id": "bbeccc6f",
   "metadata": {},
   "outputs": [],
   "source": [
    "df_checklists"
   ]
  },
  {
   "cell_type": "code",
   "execution_count": null,
   "id": "d567fe3b",
   "metadata": {},
   "outputs": [],
   "source": [
    "df_checklists['eventID'].value_counts()"
   ]
  },
  {
   "cell_type": "code",
   "execution_count": null,
   "id": "9232b6b4",
   "metadata": {},
   "outputs": [],
   "source": [
    "occ_ids = df_checklists.iloc[df_checklists.index[df['id'] == 'eb-checklist-123487']]['occurrenceID'].values.tolist()"
   ]
  },
  {
   "cell_type": "code",
   "execution_count": null,
   "id": "22e9b0da",
   "metadata": {},
   "outputs": [],
   "source": [
    "eb_checklist_63464 = df_checklists.iloc[df_checklists.index[df_checklists['occurrenceID'].isin(occ_ids)]]"
   ]
  },
  {
   "cell_type": "code",
   "execution_count": null,
   "id": "59a70eb6",
   "metadata": {},
   "outputs": [],
   "source": [
    "eb_checklist_63464[\"decimalLatitude\"].value_counts()"
   ]
  },
  {
   "cell_type": "code",
   "execution_count": null,
   "id": "69d9f9a2",
   "metadata": {},
   "outputs": [],
   "source": [
    "eb_checklist_63464[\"decimalLongitude\"].value_counts()"
   ]
  },
  {
   "cell_type": "code",
   "execution_count": null,
   "id": "ba649264",
   "metadata": {},
   "outputs": [],
   "source": [
    "eb_checklist_63464['species']"
   ]
  },
  {
   "cell_type": "markdown",
   "id": "5344ebab",
   "metadata": {},
   "source": [
    "Save USA data > 2010, to use as out dataset"
   ]
  },
  {
   "cell_type": "code",
   "execution_count": null,
   "id": "8587468a",
   "metadata": {},
   "outputs": [],
   "source": [
    "buttefly_data_US = buttefly_data[buttefly_data[\"countryCode\"] == 'US']\n",
    "buttefly_data_US.reset_index(drop=True, inplace=True)\n",
    "buttefly_data_US = buttefly_data_US[buttefly_data_US[\"year\"] >= 2010]\n",
    "buttefly_data_US.reset_index(drop=True, inplace=True)"
   ]
  },
  {
   "cell_type": "code",
   "execution_count": null,
   "id": "526978c8",
   "metadata": {},
   "outputs": [],
   "source": [
    "buttefly_data_US.to_csv(\"ebutterfly/Darwin/0177350-230224095556074/occ_usa.csv\", index=False)"
   ]
  }
 ],
 "metadata": {
  "kernelspec": {
   "display_name": "Python 3 (ipykernel)",
   "language": "python",
   "name": "python3"
  },
  "language_info": {
   "codemirror_mode": {
    "name": "ipython",
    "version": 3
   },
   "file_extension": ".py",
   "mimetype": "text/x-python",
   "name": "python",
   "nbconvert_exporter": "python",
   "pygments_lexer": "ipython3",
   "version": "3.7.11"
  }
 },
 "nbformat": 4,
 "nbformat_minor": 5
}
