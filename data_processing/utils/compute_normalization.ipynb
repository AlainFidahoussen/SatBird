{
 "cells": [
  {
   "cell_type": "code",
   "execution_count": 75,
   "metadata": {},
   "outputs": [],
   "source": [
    "import os\n",
    "import sys\n",
    "from pathlib import Path\n",
    "import numpy as np\n",
    "sys.path.append(str(Path().resolve().parent))\n",
    "sys.path.append(str(Path().resolve().parent.parent))\n",
    "from src.dataset.dataloader import EbirdVisionDataset\n",
    "from src.transforms.transforms import RandomCrop\n",
    "import torchvision.transforms as trsfs\n",
    "from torch.utils.data import DataLoader\n",
    "import pandas as pd\n"
   ]
  },
  {
   "cell_type": "code",
   "execution_count": null,
   "metadata": {},
   "outputs": [],
   "source": [
    "\n",
    "df = pd.read_csv(\"/network/scratch/t/tengmeli/ecosystem-embedding/training/train_june.csv\")\n",
    "\n",
    "bands = [\"r\"] \n",
    "\n",
    "dataset = EbirdVisionDataset(df,bands, split = \"train\", transforms = trsfs.Compose([RandomCrop((300,300), center=True),]))\n",
    "\n",
    "loader = DataLoader(\n",
    "            dataset,\n",
    "            batch_size = 2,\n",
    "            num_workers = 2,\n",
    "            shuffle = False, \n",
    "        )\n"
   ]
  },
  {
   "cell_type": "code",
   "execution_count": null,
   "metadata": {},
   "outputs": [],
   "source": [
    "mean = 0.\n",
    "std = 0.\n",
    "nb_samples = 0.\n",
    "for d in loader:\n",
    "    data = d[\"sat\"]\n",
    "    batch_samples = data.size(0)\n",
    "    data = data.view(batch_samples, data.size(1), -1)\n",
    "    mean += data.type(torch.FloatTensor) \n",
    "    \n",
    "    nb_samples += batch_samples\n",
    "\n",
    "mean /= nb_samples\n"
   ]
  },
  {
   "cell_type": "code",
   "execution_count": null,
   "metadata": {},
   "outputs": [],
   "source": [
    "\n",
    "for d in loader:\n",
    "    data = d[\"sat\"]\n",
    "    batch_samples = data.size(0)\n",
    "    data = data.view(batch_samples, data.size(1), -1)\n",
    "    std += ((data - mean)**2).sum([0,2])\n",
    "std = torch.sqrt(std / (len(loader.dataset)*300*300))"
   ]
  },
  {
   "cell_type": "code",
   "execution_count": 95,
   "metadata": {},
   "outputs": [],
   "source": [
    "#nir_mean = 2817.9849\n",
    "#b_mean = 693.2768\n",
    "#g_mean = 932.5726\n",
    "#r_mean = 894.6719"
   ]
  }
 ],
 "metadata": {
  "kernelspec": {
   "display_name": "Python 3 (ebird-env)",
   "language": "python",
   "name": "ebird-env"
  },
  "language_info": {
   "codemirror_mode": {
    "name": "ipython",
    "version": 3
   },
   "file_extension": ".py",
   "mimetype": "text/x-python",
   "name": "python",
   "nbconvert_exporter": "python",
   "pygments_lexer": "ipython3",
   "version": "3.6.13"
  }
 },
 "nbformat": 4,
 "nbformat_minor": 4
}
