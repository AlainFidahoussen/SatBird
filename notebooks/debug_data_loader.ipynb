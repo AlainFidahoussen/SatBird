{
 "cells": [
  {
   "cell_type": "code",
   "execution_count": 1,
   "metadata": {},
   "outputs": [],
   "source": [
    "%load_ext autoreload\n",
    "%autoreload 2"
   ]
  },
  {
   "cell_type": "code",
   "execution_count": 2,
   "metadata": {},
   "outputs": [],
   "source": [
    "import comet_ml\n",
    "import os\n",
    "import sys\n",
    "from pathlib import Path\n",
    "\n",
    "sys.path.append(str(Path().resolve().parent))\n",
    "sys.path.append(str(Path().resolve().parent.parent))\n",
    "from train import set_up_omegaconf, OmegaConf\n",
    "from src.trainer.trainer import EbirdTask, EbirdDataModule\n",
    "import pytorch_lightning as pl\n",
    "from pytorch_lightning import loggers as pl_loggers\n",
    "from pytorch_lightning import Trainer\n",
    "from pytorch_lightning.loggers import CometLogger\n",
    "from pytorch_lightning.callbacks import EarlyStopping, ModelCheckpoint\n",
    "from typing import Any, Dict, Tuple, Type, cast\n",
    "from src.dataset.utils import set_data_paths\n",
    "import numpy as np\n",
    "from PIL import Image"
   ]
  },
  {
   "cell_type": "code",
   "execution_count": 8,
   "metadata": {},
   "outputs": [
    {
     "name": "stdout",
     "output_type": "stream",
     "text": [
      "{'save_path': '/network/projects/_groups/ecosystem-embeddings/exps/hawk_init', 'load_ckpt': '', 'log_comet': True, 'overfit_debug': False, 'overfit_batches': 5, 'loc': {'use': True, 'concat': False, 'elev': False, 'num_checklists': False}, 'comet': {'project_name': 'hawk_init', 'tags': ['hawk', 'overfit', 'l1', 'image', 'no_trasforms', 'env']}, 'experiment': {'task': 'ebird_classifier', 'name': 'ebird_classifier', 'seed': 42, 'module': {'model': 'resnet18', 'pretrained': False, 'init_bias': 'no', 'means_path': '/network/scratch/t/tengmeli/scratch/ecosystem-embedding/training/means_all_species.npy', 'lr': 0.0001}}, 'optimizer': 'SGD', 'scheduler': {'name': 'ReduceLROnPlateau', 'reduce_lr_plateau': {'factor': 0.1, 'lr_schedule_patience': 3}, 'step_lr': {'step_size': 10, 'gamma': 0.5}, 'warmup': {'warmup_epochs': 10, 'max_epochs': 100}, 'cyclical': {'warmup_epochs': 10}}, 'variables': {'ped_means': [2230.56361696, 1374.68551614, 20.45478794, 19.04921312, 31.1196319, 61.24246466, 36.68711656, 44.25620165], 'ped_std': [2355.3843699, 107.88685009, 8.71958154, 6.69679905, 23.66400261, 8.79233844, 9.91992735, 13.1028541], 'bioclim_means': [11.99430391, 12.16226584, 36.94248176, 805.72045945, 29.4489089, -4.56172133, 34.01063026, 15.81641269, 7.80845219, 21.77499491, 1.93990004, 902.9704986, 114.61111788, 42.0276728, 37.11493781, 315.34206997, 145.09703767, 231.19724491, 220.06619529], 'bioclim_std': [4.62661648, 2.31306195, 8.73155144, 220.15217856, 3.66556263, 6.94077974, 6.73345032, 7.90953848, 10.58786476, 3.71622992, 6.67059767, 372.85954139, 49.59671974, 28.9984291, 25.76078507, 138.92188873, 93.54401194, 130.66050149, 143.05699293]}, 'data': {'loaders': {'num_workers': 4, 'batch_size': 4}, 'datatype': 'img', 'bands': ['rgb'], 'res': 10, 'env': ['ped', 'bioclim'], 'ped': {'res': 250}, 'bioclim': {'res': 1000}, 'files': {'base': '/network/scratch/t/tengmeli/scratch/ecosystem-embedding/training/', 'train': '/network/scratch/t/tengmeli/scratch/ecosystem-embedding/training/train_june_vf.csv', 'val': '/network/scratch/t/tengmeli/scratch/ecosystem-embedding/training/val_june_vf.csv', 'test': '/network/scratch/t/tengmeli/scratch/ecosystem-embedding/training/test_june_vf.csv'}, 'target': {'type': 'probs', 'subset': 'hawk'}, 'transforms': [{'name': 'matchres', 'ignore': False, 'target_size': [64, 64]}, {'name': 'crop', 'ignore': False, 'p': 1, 'ignore_band': ['bioclim', 'ped'], 'center': True, 'height': 64, 'width': 64}, {'name': 'resize', 'ignore': False, 'size': [256, 256]}, {'name': 'hflip', 'ignore': True, 'p': 0.5}, {'name': 'vflip', 'ignore': True, 'p': 0.5}, {'name': 'normalize', 'ignore': False, 'maxchan': False, 'subset': ['sat'], 'custom': [[87.0467011965099, 91.21045367500467, 67.50251448722302], [67.55043009747773, 51.443316800384295, 49.65159018638426]]}, {'name': 'normalize', 'ignore': False, 'maxchan': False, 'subset': ['bioclim'], 'custom': [[11.99430391, 12.16226584, 36.94248176, 805.72045945, 29.4489089, -4.56172133, 34.01063026, 15.81641269, 7.80845219, 21.77499491, 1.93990004, 902.9704986, 114.61111788, 42.0276728, 37.11493781, 315.34206997, 145.09703767, 231.19724491, 220.06619529], [4.62661648, 2.31306195, 8.73155144, 220.15217856, 3.66556263, 6.94077974, 6.73345032, 7.90953848, 10.58786476, 3.71622992, 6.67059767, 372.85954139, 49.59671974, 28.9984291, 25.76078507, 138.92188873, 93.54401194, 130.66050149, 143.05699293]]}, {'name': 'normalize', 'ignore': False, 'maxchan': False, 'subset': ['ped'], 'custom': [[2230.56361696, 1374.68551614, 20.45478794, 19.04921312, 31.1196319, 61.24246466, 36.68711656, 44.25620165], [2355.3843699, 107.88685009, 8.71958154, 6.69679905, 23.66400261, 8.79233844, 9.91992735, 13.1028541]]}, {'name': 'randomnoise', 'ignore': True, 'std': 0.01, 'max_noise': 0.05}], 'total_species': 684}, 'program': {'seed': 1337, 'output_dir': 'output', 'data_dir': 'data', 'log_dir': 'logs', 'overwrite': False}, 'losses': {'criterion': 'CrossEntropy', 'ce': {'ignore': False, 'lambd_pres': 10, 'lambd_abs': 1}, 'metrics': [{'name': 'ce', 'ignore': False, 'lambd_pres': 1, 'lambd_abs': 1, 'scale': 1}, {'name': 'mae', 'ignore': False, 'scale': 10}, {'name': 'mse', 'ignore': False, 'scale': 10}, {'name': 'topk', 'ignore': False, 'k': 30, 'scale': 1}, {'name': 'kl', 'ignore': False, 'scale': 1}]}, 'trainer': {'logger': True, 'checkpoint_callback': True, 'callbacks': None, 'default_root_dir': None, 'process_position': 0, 'num_nodes': 1, 'num_processes': 1, 'gpus': 1, 'auto_select_gpus': False, 'tpu_cores': None, 'log_gpu_memory': None, 'progress_bar_refresh_rate': None, 'overfit_batches': 0.0, 'track_grad_norm': -1, 'check_val_every_n_epoch': 1, 'fast_dev_run': False, 'accumulate_grad_batches': 1, 'max_epochs': None, 'min_epochs': None, 'max_steps': None, 'min_steps': None, 'limit_train_batches': 1.0, 'limit_val_batches': 1.0, 'limit_test_batches': 1.0, 'limit_predict_batches': 1.0, 'val_check_interval': 1.0, 'flush_logs_every_n_steps': 100, 'log_every_n_steps': 1, 'accelerator': None, 'sync_batchnorm': False, 'precision': 32, 'weights_summary': 'top', 'weights_save_path': None, 'num_sanity_val_steps': 2, 'resume_from_checkpoint': None, 'profiler': None, 'benchmark': False, 'deterministic': False, 'reload_dataloaders_every_epoch': False, 'auto_lr_find': False, 'replace_sampler_ddp': True, 'terminate_on_nan': False, 'auto_scale_batch_size': False, 'prepare_data_per_node': True, 'plugins': None, 'amp_backend': 'native', 'move_metrics_to_cpu': False, 'multiple_trainloader_mode': 'max_size_cycle', 'stochastic_weight_avg': False}, 'auto_lr_find': True}\n",
      "Predicting  1 species\n",
      "no initialization of biases\n",
      "[('ce', CustomCrossEntropy(), 1), ('mae', MeanAbsoluteError(), 10), ('mse', MeanSquaredError(), 10), ('topk', CustomTopK(), 1), ('kl', CustomKL(), 1)]\n"
     ]
    }
   ],
   "source": [
    "conf = OmegaConf.load(\"../configs/defaults.yaml\")\n",
    "conf = OmegaConf.merge(\n",
    "        conf, OmegaConf.load(\"../configs/debugging.yaml\")\n",
    "    )\n",
    "conf = set_data_paths(conf)\n",
    "task = EbirdTask(conf)\n",
    "datamodule = EbirdDataModule(conf)\n",
    "\n",
    "datamodule.setup()\n",
    "it = datamodule.all_train_dataset.__getitem__(0)"
   ]
  },
  {
   "cell_type": "code",
   "execution_count": 9,
   "metadata": {},
   "outputs": [
    {
     "data": {
      "text/plain": [
       "(9, 1)"
      ]
     },
     "execution_count": 9,
     "metadata": {},
     "output_type": "execute_result"
    }
   ],
   "source": [
    "#check that we have the right number of ped data:\n",
    "# typically we have cropped the satellite image to 64*64 image --> 640*640 m \n",
    "#given the resolution of pedological data is 250 m, we expect to have something like a 3*3 grid that corresponds to the 640*640 m\n",
    "#bioclimatic data is 1km resolution, so we should just have one value (max 4) -check for one variable\n",
    "len(np.unique(it[\"ped\"].squeeze(0).cpu().numpy()[0,:,:])), len(np.unique(it[\"bioclim\"].squeeze(0).cpu().numpy()[0,:,:]))\n"
   ]
  },
  {
   "cell_type": "code",
   "execution_count": 11,
   "metadata": {},
   "outputs": [
    {
     "data": {
      "text/plain": [
       "dict_keys(['ped', 'bioclim', 'sat', 'target', 'num_complete_checklists', 'hotspot_id', 'lon', 'lat', 'area_geom', 'date', 'loc'])"
      ]
     },
     "execution_count": 11,
     "metadata": {},
     "output_type": "execute_result"
    }
   ],
   "source": [
    "it.keys()"
   ]
  },
  {
   "cell_type": "code",
   "execution_count": 32,
   "metadata": {},
   "outputs": [
    {
     "data": {
      "image/png": "[encoded data removed]",
      "text/plain": [
       "<PIL.Image.Image image mode=RGB size=64x64 at 0x7F510728CE80>"
      ]
     },
     "execution_count": 32,
     "metadata": {},
     "output_type": "execute_result"
    }
   ],
   "source": [
    "#check that we have indeed cropped in the middle -- original image\n",
    "arr = np.load('/ecosystem-embedding/satellite_data/%s_rgb.npy' % it[\"hotspot_id\"])\n",
    "c,h,w = arr.shape\n",
    "Image.fromarray(np.transpose(arr[:, h//2-32:(h//2)+32, (w//2)-32:w//2+32], (1,2,0)))"
   ]
  },
  {
   "cell_type": "code",
   "execution_count": 26,
   "metadata": {},
   "outputs": [],
   "source": [
    "#cropped image in our dataloader\n",
    "\n",
    "#this is what we normalized by \n",
    "means= [87.0467011965099, 91.21045367500467, 67.50251448722302]\n",
    "std = [67.55043009747773, 51.443316800384295, 49.65159018638426]\n",
    "std_ = np.transpose(np.tile(np.array(std), (256,256,1)), (2,0,1))\n",
    "#only keep rgb bands\n",
    "aa = (it[\"sat\"].squeeze(0)[:3].cpu().numpy() * std_) + np.transpose(np.tile(np.array(means), (256,256,1)), (2,0,1))"
   ]
  },
  {
   "cell_type": "code",
   "execution_count": 30,
   "metadata": {},
   "outputs": [
    {
     "data": {
      "image/png": "[encoded data removed]",
      "text/plain": [
       "<PIL.Image.Image image mode=RGB size=256x256 at 0x7F51D00AD390>"
      ]
     },
     "execution_count": 30,
     "metadata": {},
     "output_type": "execute_result"
    }
   ],
   "source": [
    "Image.fromarray(np.transpose(aa.astype(np.uint8), (1,2,0)))"
   ]
  },
  {
   "cell_type": "markdown",
   "metadata": {},
   "source": [
    "It's the same region, all good !"
   ]
  },
  {
   "cell_type": "code",
   "execution_count": 41,
   "metadata": {},
   "outputs": [],
   "source": [
    "#check pedological data"
   ]
  },
  {
   "cell_type": "code",
   "execution_count": 45,
   "metadata": {},
   "outputs": [
    {
     "data": {
      "text/plain": [
       "tensor([[-0.1212, -0.1212, -0.1212,  ...,  0.0000,  0.0000,  0.0000],\n",
       "        [-0.1212, -0.1212, -0.1212,  ...,  0.0000,  0.0000,  0.0000],\n",
       "        [-0.1212, -0.1212, -0.1212,  ...,  0.0000,  0.0000,  0.0000],\n",
       "        ...,\n",
       "        [-0.0198, -0.0198, -0.0198,  ...,  0.0592,  0.0592,  0.0592],\n",
       "        [-0.0198, -0.0198, -0.0198,  ...,  0.0592,  0.0592,  0.0592],\n",
       "        [-0.0198, -0.0198, -0.0198,  ...,  0.0592,  0.0592,  0.0592]])"
      ]
     },
     "execution_count": 45,
     "metadata": {},
     "output_type": "execute_result"
    }
   ],
   "source": [
    "#first pedological variable (index 3 because we have rgb, then ped data, then bioclim concatenated)\n",
    "it[\"sat\"][0,3,:,:]"
   ]
  },
  {
   "cell_type": "code",
   "execution_count": 36,
   "metadata": {},
   "outputs": [],
   "source": [
    "\n",
    "ped = np.load('/ecosystem-embedding/hotspot_ped_var/%s.npy' % it[\"hotspot_id\"])"
   ]
  },
  {
   "cell_type": "code",
   "execution_count": 40,
   "metadata": {},
   "outputs": [
    {
     "data": {
      "text/plain": [
       "array([[-0.12123869, -0.11741766,  0.        ],\n",
       "       [ 0.05707616, -0.00108845,  0.05198145],\n",
       "       [-0.01976905, -0.02146729,  0.05919895]], dtype=float32)"
      ]
     },
     "execution_count": 40,
     "metadata": {},
     "output_type": "execute_result"
    }
   ],
   "source": [
    "(ped[0][4:7, 4:7] - 2230.56361696) / 2355.3843"
   ]
  },
  {
   "cell_type": "markdown",
   "metadata": {},
   "source": [
    "# debug dataloader when using reflectance values r,g,b,nir"
   ]
  },
  {
   "cell_type": "code",
   "execution_count": 3,
   "metadata": {},
   "outputs": [
    {
     "name": "stdout",
     "output_type": "stream",
     "text": [
      "{'save_path': '/network/projects/_groups/ecosystem-embeddings/exps/debug', 'load_ckpt': '', 'log_comet': True, 'overfit_debug': False, 'overfit_batches': 5, 'loc': {'use': False, 'concat': False, 'elev': False, 'num_checklists': False}, 'comet': {'project_name': 'debug', 'tags': ['not_songnirds', 'overfit', 'l1', 'image', 'no_trasforms', 'env']}, 'experiment': {'task': 'ebird_classifier', 'name': 'ebird_classifier', 'seed': 42, 'module': {'model': 'resnet18', 'pretrained': False, 'init_bias': 'no', 'means_path': '/network/scratch/t/tengmeli/scratch/ecosystem-embedding/training/means_all_species.npy', 'lr': 0.0001}}, 'optimizer': 'SGD', 'scheduler': {'name': 'ReduceLROnPlateau', 'reduce_lr_plateau': {'factor': 0.1, 'lr_schedule_patience': 3}, 'step_lr': {'step_size': 10, 'gamma': 0.5}, 'warmup': {'warmup_epochs': 10, 'max_epochs': 100}, 'cyclical': {'warmup_epochs': 10}}, 'variables': {'ped_means': [2230.56361696, 1374.68551614, 20.45478794, 19.04921312, 31.1196319, 61.24246466, 36.68711656, 44.25620165], 'ped_std': [2355.3843699, 107.88685009, 8.71958154, 6.69679905, 23.66400261, 8.79233844, 9.91992735, 13.1028541], 'bioclim_means': [11.99430391, 12.16226584, 36.94248176, 805.72045945, 29.4489089, -4.56172133, 34.01063026, 15.81641269, 7.80845219, 21.77499491, 1.93990004, 902.9704986, 114.61111788, 42.0276728, 37.11493781, 315.34206997, 145.09703767, 231.19724491, 220.06619529], 'bioclim_std': [4.62661648, 2.31306195, 8.73155144, 220.15217856, 3.66556263, 6.94077974, 6.73345032, 7.90953848, 10.58786476, 3.71622992, 6.67059767, 372.85954139, 49.59671974, 28.9984291, 25.76078507, 138.92188873, 93.54401194, 130.66050149, 143.05699293]}, 'data': {'loaders': {'num_workers': 4, 'batch_size': 4}, 'datatype': 'refl', 'bands': ['r', 'g', 'b', 'nir'], 'res': 10, 'env': ['ped', 'bioclim'], 'ped': {'res': 250}, 'bioclim': {'res': 1000}, 'files': {'base': '/network/scratch/t/tengmeli/scratch/ecosystem-embedding/training/', 'train': '/network/scratch/t/tengmeli/scratch/ecosystem-embedding/training/train_june_vf.csv', 'val': '/network/scratch/t/tengmeli/scratch/ecosystem-embedding/training/val_june_vf.csv', 'test': '/network/scratch/t/tengmeli/scratch/ecosystem-embedding/training/test_june_vf.csv'}, 'target': {'type': 'probs', 'subset': 'not_songbirds'}, 'transforms': [{'name': 'matchres', 'ignore': False, 'target_size': [64, 64]}, {'name': 'crop', 'ignore': False, 'p': 1, 'ignore_band': ['bioclim', 'ped'], 'center': True, 'height': 64, 'width': 64}, {'name': 'resize', 'ignore': False, 'size': [256, 256]}, {'name': 'hflip', 'ignore': False, 'p': 0.5}, {'name': 'vflip', 'ignore': False, 'p': 0.5}, {'name': 'normalize', 'ignore': False, 'maxchan': False, 'subset': ['sat'], 'custom': [[1250.1775, 1088.0417, 818.9687, 2414.3396], [869.4265, 1404.824, 1284.3544, 2272.3147]]}, {'name': 'normalize', 'ignore': False, 'maxchan': False, 'subset': ['bioclim'], 'custom': [[11.99430391, 12.16226584, 36.94248176, 805.72045945, 29.4489089, -4.56172133, 34.01063026, 15.81641269, 7.80845219, 21.77499491, 1.93990004, 902.9704986, 114.61111788, 42.0276728, 37.11493781, 315.34206997, 145.09703767, 231.19724491, 220.06619529], [4.62661648, 2.31306195, 8.73155144, 220.15217856, 3.66556263, 6.94077974, 6.73345032, 7.90953848, 10.58786476, 3.71622992, 6.67059767, 372.85954139, 49.59671974, 28.9984291, 25.76078507, 138.92188873, 93.54401194, 130.66050149, 143.05699293]]}, {'name': 'normalize', 'ignore': False, 'maxchan': False, 'subset': ['ped'], 'custom': [[2230.56361696, 1374.68551614, 20.45478794, 19.04921312, 31.1196319, 61.24246466, 36.68711656, 44.25620165], [2355.3843699, 107.88685009, 8.71958154, 6.69679905, 23.66400261, 8.79233844, 9.91992735, 13.1028541]]}, {'name': 'randomnoise', 'ignore': True, 'std': 0.01, 'max_noise': 0.05}], 'total_species': 684}, 'program': {'seed': 1337, 'output_dir': 'output', 'data_dir': 'data', 'log_dir': 'logs', 'overwrite': False}, 'losses': {'criterion': 'CrossEntropy', 'ce': {'ignore': False, 'lambd_pres': 10, 'lambd_abs': 1}, 'metrics': [{'name': 'ce', 'ignore': False, 'lambd_pres': 1, 'lambd_abs': 1, 'scale': 1}, {'name': 'mae', 'ignore': False, 'scale': 10}, {'name': 'mse', 'ignore': False, 'scale': 10}, {'name': 'topk', 'ignore': False, 'k': 30, 'scale': 1}, {'name': 'kl', 'ignore': False, 'scale': 1}]}, 'trainer': {'logger': True, 'checkpoint_callback': True, 'callbacks': None, 'default_root_dir': None, 'process_position': 0, 'num_nodes': 1, 'num_processes': 1, 'gpus': 1, 'auto_select_gpus': False, 'tpu_cores': None, 'log_gpu_memory': None, 'progress_bar_refresh_rate': None, 'overfit_batches': 0.0, 'track_grad_norm': -1, 'check_val_every_n_epoch': 1, 'fast_dev_run': False, 'accumulate_grad_batches': 1, 'max_epochs': None, 'min_epochs': None, 'max_steps': None, 'min_steps': None, 'limit_train_batches': 1.0, 'limit_val_batches': 1.0, 'limit_test_batches': 1.0, 'limit_predict_batches': 1.0, 'val_check_interval': 1.0, 'flush_logs_every_n_steps': 100, 'log_every_n_steps': 1, 'accelerator': None, 'sync_batchnorm': False, 'precision': 32, 'weights_summary': 'top', 'weights_save_path': None, 'num_sanity_val_steps': 2, 'resume_from_checkpoint': None, 'profiler': None, 'benchmark': False, 'deterministic': False, 'reload_dataloaders_every_epoch': False, 'auto_lr_find': False, 'replace_sampler_ddp': True, 'terminate_on_nan': False, 'auto_scale_batch_size': False, 'prepare_data_per_node': True, 'plugins': None, 'amp_backend': 'native', 'move_metrics_to_cpu': False, 'multiple_trainloader_mode': 'max_size_cycle', 'stochastic_weight_avg': False}, 'auto_lr_find': True}\n",
      "Predicting  379 species\n",
      "no initialization of biases\n",
      "[('ce', CustomCrossEntropy(), 1), ('mae', MeanAbsoluteError(), 10), ('mse', MeanSquaredError(), 10), ('topk', CustomTopK(), 1), ('kl', CustomKL(), 1)]\n"
     ]
    }
   ],
   "source": [
    "conf = OmegaConf.load(\"../configs/defaults.yaml\")\n",
    "conf = OmegaConf.merge(\n",
    "        conf, OmegaConf.load(\"../configs/debugging_refl.yaml\")\n",
    "    )\n",
    "conf = set_data_paths(conf)\n",
    "task = EbirdTask(conf)\n",
    "datamodule = EbirdDataModule(conf)\n",
    "\n",
    "datamodule.setup()\n",
    "it = datamodule.all_train_dataset.__getitem__(0)"
   ]
  },
  {
   "cell_type": "code",
   "execution_count": 7,
   "metadata": {},
   "outputs": [],
   "source": [
    "means, std = [1250.1775, 1088.0417, 818.9687, 2414.3396], [869.4265, 1404.824, 1284.3544, 2272.3147]"
   ]
  },
  {
   "cell_type": "code",
   "execution_count": 8,
   "metadata": {},
   "outputs": [],
   "source": [
    "rgb = it[\"sat\"][0, :3, :,:]"
   ]
  },
  {
   "cell_type": "code",
   "execution_count": 10,
   "metadata": {},
   "outputs": [],
   "source": [
    "means_ = np.transpose(np.tile(np.array(means[:3]), (256,256,1)), (2,0,1))\n",
    "std_ = np.transpose(np.tile(np.array(std[:3]), (256,256,1)), (2,0,1))"
   ]
  },
  {
   "cell_type": "code",
   "execution_count": 12,
   "metadata": {},
   "outputs": [],
   "source": [
    "rgb = rgb.cpu().numpy()"
   ]
  },
  {
   "cell_type": "code",
   "execution_count": 17,
   "metadata": {},
   "outputs": [],
   "source": [
    "max_ = np.max(rgb, axis = (1,2))\n",
    "min_ = np.min(rgb, axis = (1,2))"
   ]
  },
  {
   "cell_type": "code",
   "execution_count": 20,
   "metadata": {},
   "outputs": [],
   "source": [
    "max_ = np.transpose(np.tile(np.array(max_), (256,256,1)), (2,0,1))\n",
    "min_ = np.transpose(np.tile(np.array(min_), (256,256,1)), (2,0,1))"
   ]
  },
  {
   "cell_type": "code",
   "execution_count": 22,
   "metadata": {},
   "outputs": [],
   "source": [
    "norm = (rgb - min_) / (max_ - min_)"
   ]
  },
  {
   "cell_type": "code",
   "execution_count": 24,
   "metadata": {},
   "outputs": [
    {
     "data": {
      "image/png": "[encoded data removed]",
      "text/plain": [
       "<PIL.Image.Image image mode=RGB size=256x256 at 0x7F246CBB54E0>"
      ]
     },
     "execution_count": 24,
     "metadata": {},
     "output_type": "execute_result"
    }
   ],
   "source": [
    "Image.fromarray(np.transpose((norm*255).astype(np.uint8), (1,2,0)))"
   ]
  },
  {
   "cell_type": "raw",
   "metadata": {},
   "source": [
    "It is the right area. (it's normal that it is not the same colors)"
   ]
  },
  {
   "cell_type": "code",
   "execution_count": null,
   "metadata": {},
   "outputs": [],
   "source": []
  }
 ],
 "metadata": {
  "kernelspec": {
   "display_name": "Python 3 (ebird-env)",
   "language": "python",
   "name": "ebird-env"
  },
  "language_info": {
   "codemirror_mode": {
    "name": "ipython",
    "version": 3
   },
   "file_extension": ".py",
   "mimetype": "text/x-python",
   "name": "python",
   "nbconvert_exporter": "python",
   "pygments_lexer": "ipython3",
   "version": "3.6.13"
  }
 },
 "nbformat": 4,
 "nbformat_minor": 4
}
