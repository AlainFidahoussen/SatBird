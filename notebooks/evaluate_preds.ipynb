{
 "cells": [
  {
   "cell_type": "code",
   "execution_count": 3,
   "metadata": {},
   "outputs": [],
   "source": [
    "import os \n",
    "import numpy as np\n",
    "import pandas as pd"
   ]
  },
  {
   "cell_type": "code",
   "execution_count": 8,
   "metadata": {},
   "outputs": [],
   "source": [
    "import json"
   ]
  },
  {
   "cell_type": "code",
   "execution_count": 70,
   "metadata": {},
   "outputs": [],
   "source": [
    "path_preds = \"/network/projects/_groups/ecosystem-embeddings/ebird_checkpoints/resnet18_location_300_epochs/preds/\"\n",
    "\n",
    "path_val = \"/ecosystem-embedding/training/valid_clustered_vf.csv\"\n",
    "\n",
    "valid = pd.read_csv(path_val)\n",
    "\n",
    "scores_df = valid[[\"hotspot\"]].copy()\n",
    "\n",
    "scores_df[\"mae\"]=0\n",
    "scores_df[\"mse\"]=0\n",
    "scores_df[\"ce\"]=0\n",
    "scores_df[\"topk\"]=0"
   ]
  },
  {
   "cell_type": "code",
   "execution_count": 65,
   "metadata": {},
   "outputs": [],
   "source": [
    "not_idx = np.load('/network/projects/_groups/ecosystem-embeddings/species_splits/not_songbirds_idx.npy')\n",
    "def get_species(df, hotspot):\n",
    "    path = df.loc[df[\"hotspot\"] == hotspot][\"species\"].values[0]\n",
    "    with open(path, \"r\") as f:\n",
    "        data = json.load(f)\n",
    "        f.close()\n",
    "    \n",
    "    return(np.array(data[\"probs\"])[not_idx])"
   ]
  },
  {
   "cell_type": "code",
   "execution_count": 66,
   "metadata": {},
   "outputs": [],
   "source": [
    "def get_preds(path_preds, hotspot):\n",
    "    return(np.load(os.path.join(path_preds, hotspot + \".npy\")))"
   ]
  },
  {
   "cell_type": "code",
   "execution_count": 72,
   "metadata": {},
   "outputs": [],
   "source": [
    "def topk(preds, target):\n",
    "    \n",
    "    k = np.count_nonzero(target)\n",
    "      \n",
    "    i_pred = np.argpartition(preds, -k)[-k:]\n",
    "\n",
    "    i_targ= np.argpartition(target, -k)[-k:]\n",
    "\n",
    "    if k == 0 :\n",
    "        correct = 1\n",
    "    else:\n",
    "        correct = len(set(i_pred).intersection(set(i_targ))) / k\n",
    "    return(correct)\n",
    "        \n"
   ]
  },
  {
   "cell_type": "code",
   "execution_count": 81,
   "metadata": {},
   "outputs": [],
   "source": [
    "for i, row in scores_df.iterrows():\n",
    "    gt = get_species(valid, row[\"hotspot\"])\n",
    "    preds = get_preds(path_preds, row[\"hotspot\"])\n",
    "    \n",
    "    scores_df.loc[i, 'mae'] = np.mean(np.abs(gt - preds))\n",
    "    scores_df.loc[i, 'mse'] = np.mean(np.abs(gt - preds)**2)\n",
    "    scores_df.loc[i, \"topk\"] = topk(preds, gt)"
   ]
  },
  {
   "cell_type": "code",
   "execution_count": 82,
   "metadata": {},
   "outputs": [
    {
     "data": {
      "text/plain": [
       "mae     0.012156\n",
       "mse     0.003451\n",
       "ce      0.000000\n",
       "topk    0.603227\n",
       "dtype: float64"
      ]
     },
     "execution_count": 82,
     "metadata": {},
     "output_type": "execute_result"
    }
   ],
   "source": [
    "scores_df.mean()"
   ]
  },
  {
   "cell_type": "code",
   "execution_count": 79,
   "metadata": {},
   "outputs": [],
   "source": [
    "path_preds = \"/network/projects/_groups/ecosystem-embeddings/ebird_checkpoints/resnet18_baseline/preds/\"\n",
    "\n",
    "path_val = \"/ecosystem-embedding/training/valid_clustered_vf.csv\"\n",
    "\n",
    "valid = pd.read_csv(path_val)\n",
    "\n",
    "scores_df_base = valid[[\"hotspot\"]].copy()\n",
    "\n",
    "scores_df_base[\"mae\"]=0\n",
    "scores_df_base[\"mse\"]=0\n",
    "scores_df_base[\"ce\"]=0\n",
    "scores_df_base[\"topk\"]=0\n",
    "\n",
    "for i, row in scores_df_base.iterrows():\n",
    "    gt = get_species(valid, row[\"hotspot\"])\n",
    "    preds = get_preds(path_preds, row[\"hotspot\"])\n",
    "    \n",
    "    scores_df_base.loc[i, 'mae'] = np.mean(np.abs(gt - preds))\n",
    "    scores_df_base.loc[i, 'mse'] = np.mean(np.abs(gt - preds)**2)\n",
    "    scores_df_base.loc[i, \"topk\"] = topk(preds, gt)"
   ]
  },
  {
   "cell_type": "code",
   "execution_count": 80,
   "metadata": {},
   "outputs": [
    {
     "data": {
      "text/plain": [
       "mae     0.012156\n",
       "mse     0.003451\n",
       "ce      0.000000\n",
       "topk    0.603227\n",
       "dtype: float64"
      ]
     },
     "execution_count": 80,
     "metadata": {},
     "output_type": "execute_result"
    }
   ],
   "source": [
    "scores_df_base.mean()"
   ]
  },
  {
   "cell_type": "code",
   "execution_count": null,
   "metadata": {},
   "outputs": [],
   "source": []
  }
 ],
 "metadata": {
  "kernelspec": {
   "display_name": "Python 3 (glc)",
   "language": "python",
   "name": "glc"
  },
  "language_info": {
   "codemirror_mode": {
    "name": "ipython",
    "version": 3
   },
   "file_extension": ".py",
   "mimetype": "text/x-python",
   "name": "python",
   "nbconvert_exporter": "python",
   "pygments_lexer": "ipython3",
   "version": "3.6.13"
  }
 },
 "nbformat": 4,
 "nbformat_minor": 4
}
