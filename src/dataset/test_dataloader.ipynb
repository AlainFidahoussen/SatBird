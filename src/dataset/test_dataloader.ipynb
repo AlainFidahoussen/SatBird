{
 "cells": [
  {
   "cell_type": "code",
   "execution_count": 1,
   "metadata": {},
   "outputs": [],
   "source": [
    "%load_ext autoreload\n",
    "%autoreload 2"
   ]
  },
  {
   "cell_type": "code",
   "execution_count": 1,
   "metadata": {},
   "outputs": [],
   "source": [
    "import os\n",
    "import sys\n",
    "from pathlib import Path\n",
    "import numpy as np\n",
    "sys.path.append(str(Path().resolve().parent))\n",
    "sys.path.append(str(Path().resolve().parent.parent))\n",
    "\n",
    "\n",
    "import transforms.transforms as trf\n",
    "import pandas as pd"
   ]
  },
  {
   "cell_type": "code",
   "execution_count": null,
   "metadata": {},
   "outputs": [],
   "source": [
    "df = pd.DataFrame(df_paths)"
   ]
  },
  {
   "cell_type": "code",
   "execution_count": 3,
   "metadata": {},
   "outputs": [],
   "source": [
    "r=\"/miniscratch/akera/ecosystem-embedding/data/sentinel2/L595310_r.npy\"\n",
    "g=\"/miniscratch/akera/ecosystem-embedding/data/sentinel2/L595310_g.npy\"\n",
    "b=\"/miniscratch/akera/ecosystem-embedding/data/sentinel2/L595310_b.npy\"\n",
    "m = \"/miniscratch/akera/ecosystem-embedding/data/sentinel2/L595310.json\"\n",
    "s = \"/miniscratch/tengmeli/ecosystem-embedding/ebird_data_june/L595310.json\"\n",
    "\n",
    "r1=\"/miniscratch/akera/ecosystem-embedding/data/sentinel2/L999786_r.npy\"\n",
    "g1=\"/miniscratch/akera/ecosystem-embedding/data/sentinel2/L999786_g.npy\"\n",
    "b1=\"/miniscratch/akera/ecosystem-embedding/data/sentinel2/L999786_b.npy\"\n",
    "m1=\"/miniscratch/akera/ecosystem-embedding/data/sentinel2/L999786.json\"\n",
    "s1 = \"/miniscratch/tengmeli/ecosystem-embedding/ebird_data_june/L595310.json\"\n",
    "\n",
    "df_paths = {'r': [r, r1], 'g': [g,g1], 'b':[b, b1], \"metadata\":[m,m1], \"species\":[s,s1]}"
   ]
  },
  {
   "cell_type": "code",
   "execution_count": 3,
   "metadata": {},
   "outputs": [],
   "source": [
    "df = pd.read_csv('/network/scratch/t/tengmeli/scratch/ecosystem-embedding/training/train_clustered_vf.csv')"
   ]
  },
  {
   "cell_type": "code",
   "execution_count": 5,
   "metadata": {},
   "outputs": [
    {
     "data": {
      "text/plain": [
       "'/network/projects/ecosystem-embeddings/data/ebird_esri_lulc_planetary/ebird_esri_lulc_planetary/L678935.tif'"
      ]
     },
     "execution_count": 5,
     "metadata": {},
     "output_type": "execute_result"
    }
   ],
   "source": [
    "df.loc[0,'landuse']"
   ]
  },
  {
   "cell_type": "code",
   "execution_count": 13,
   "metadata": {},
   "outputs": [
    {
     "name": "stderr",
     "output_type": "stream",
     "text": [
      "[autoreload of dataloader failed: Traceback (most recent call last):\n",
      "  File \"/home/mila/t/tengmeli/.conda/envs/ecosys/lib/python3.6/site-packages/IPython/extensions/autoreload.py\", line 245, in check\n",
      "    superreload(m, reload, self.old_objects)\n",
      "  File \"/home/mila/t/tengmeli/.conda/envs/ecosys/lib/python3.6/site-packages/IPython/extensions/autoreload.py\", line 410, in superreload\n",
      "    update_generic(old_obj, new_obj)\n",
      "  File \"/home/mila/t/tengmeli/.conda/envs/ecosys/lib/python3.6/site-packages/IPython/extensions/autoreload.py\", line 347, in update_generic\n",
      "    update(a, b)\n",
      "  File \"/home/mila/t/tengmeli/.conda/envs/ecosys/lib/python3.6/site-packages/IPython/extensions/autoreload.py\", line 302, in update_class\n",
      "    if update_generic(old_obj, new_obj): continue\n",
      "  File \"/home/mila/t/tengmeli/.conda/envs/ecosys/lib/python3.6/site-packages/IPython/extensions/autoreload.py\", line 347, in update_generic\n",
      "    update(a, b)\n",
      "  File \"/home/mila/t/tengmeli/.conda/envs/ecosys/lib/python3.6/site-packages/IPython/extensions/autoreload.py\", line 302, in update_class\n",
      "    if update_generic(old_obj, new_obj): continue\n",
      "  File \"/home/mila/t/tengmeli/.conda/envs/ecosys/lib/python3.6/site-packages/IPython/extensions/autoreload.py\", line 347, in update_generic\n",
      "    update(a, b)\n",
      "  File \"/home/mila/t/tengmeli/.conda/envs/ecosys/lib/python3.6/site-packages/IPython/extensions/autoreload.py\", line 302, in update_class\n",
      "    if update_generic(old_obj, new_obj): continue\n",
      "  File \"/home/mila/t/tengmeli/.conda/envs/ecosys/lib/python3.6/site-packages/IPython/extensions/autoreload.py\", line 347, in update_generic\n",
      "    update(a, b)\n",
      "  File \"/home/mila/t/tengmeli/.conda/envs/ecosys/lib/python3.6/site-packages/IPython/extensions/autoreload.py\", line 302, in update_class\n",
      "    if update_generic(old_obj, new_obj): continue\n",
      "RecursionError: maximum recursion depth exceeded\n",
      "]\n"
     ]
    }
   ],
   "source": [
    "from dataloader import EbirdVisionDataset\n",
    "from transforms.transforms import RandomCrop, RandomHorizontalFlip, Normalize\n",
    "from torchvision import transforms as trsfs"
   ]
  },
  {
   "cell_type": "code",
   "execution_count": 14,
   "metadata": {},
   "outputs": [],
   "source": [
    "bands = [\"r\",\"g\", \"b\"]"
   ]
  },
  {
   "cell_type": "code",
   "execution_count": 15,
   "metadata": {},
   "outputs": [
    {
     "data": {
      "text/plain": [
       "{'sat': tensor([[[[850, 865, 820,  ..., 151, 183, 159],\n",
       "           [839, 797, 714,  ..., 173, 185, 145],\n",
       "           [720, 725, 548,  ..., 171, 178, 142],\n",
       "           ...,\n",
       "           [167, 141, 120,  ..., 163, 151, 165],\n",
       "           [144, 124, 115,  ..., 147, 154, 160],\n",
       "           [169, 150, 148,  ..., 189, 151, 158]],\n",
       " \n",
       "          [[892, 863, 888,  ..., 354, 392, 349],\n",
       "           [854, 871, 935,  ..., 399, 410, 284],\n",
       "           [855, 878, 756,  ..., 405, 406, 301],\n",
       "           ...,\n",
       "           [382, 318, 317,  ..., 394, 346, 317],\n",
       "           [339, 328, 309,  ..., 309, 353, 334],\n",
       "           [411, 361, 343,  ..., 323, 348, 336]],\n",
       " \n",
       "          [[476, 485, 477,  ..., 135, 167, 158],\n",
       "           [472, 438, 464,  ..., 172, 188, 141],\n",
       "           [434, 426, 369,  ..., 188, 166, 146],\n",
       "           ...,\n",
       "           [162, 130,  91,  ..., 130, 120, 125],\n",
       "           [127, 114, 110,  ..., 131, 144, 135],\n",
       "           [175, 150, 136,  ..., 123, 110, 127]]]], dtype=torch.int32),\n",
       " 'hotspot_id': 'L595310',\n",
       " 'lon': -77.2941077,\n",
       " 'lat': 39.2009491,\n",
       " 'area_geom': 'POLYGON ((-77.3288376364689 39.17392677768633, -77.3288376364689 39.22797142231367, -77.25937776353109 39.22797142231367, -77.25937776353109 39.17392677768633, -77.3288376364689 39.17392677768633))',\n",
       " 'date': '2021-06-17'}"
      ]
     },
     "execution_count": 15,
     "metadata": {},
     "output_type": "execute_result"
    }
   ],
   "source": [
    "dataset = EbirdVisionDataset(df,bands, trsfs.Compose([RandomCrop((256,256)), RandomHorizontalFlip()]))\n",
    "\n",
    "dataset.__getitem__(0)"
   ]
  },
  {
   "cell_type": "code",
   "execution_count": null,
   "metadata": {},
   "outputs": [],
   "source": []
  }
 ],
 "metadata": {
  "kernelspec": {
   "display_name": "ebird",
   "language": "python",
   "name": "ebird"
  },
  "language_info": {
   "codemirror_mode": {
    "name": "ipython",
    "version": 3
   },
   "file_extension": ".py",
   "mimetype": "text/x-python",
   "name": "python",
   "nbconvert_exporter": "python",
   "pygments_lexer": "ipython3",
   "version": "3.6.13"
  }
 },
 "nbformat": 4,
 "nbformat_minor": 4
}
